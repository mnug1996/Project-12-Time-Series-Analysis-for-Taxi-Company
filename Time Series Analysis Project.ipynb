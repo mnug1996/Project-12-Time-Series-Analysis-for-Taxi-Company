{
 "cells": [
  {
   "cell_type": "markdown",
   "metadata": {},
   "source": [
    "<div class=\"alert alert-success\">\n",
    "<b>Reviewer's comment V2</b>\n",
    "\n",
    "Thank you for taking the time to improve the project! It is accepted now. Keep up the good work on the next sprint!\n",
    "    \n",
    "FYI, I answered your comments about seasonality and train/test set performance below\n",
    "\n",
    "</div>"
   ]
  },
  {
   "cell_type": "markdown",
   "metadata": {},
   "source": [
    "**Review**\n",
    "\n",
    "Hi, my name is Dmitry and I will be reviewing your project.\n",
    "  \n",
    "You can find my comments in colored markdown cells:\n",
    "  \n",
    "<div class=\"alert alert-success\">\n",
    "  If everything is done successfully.\n",
    "</div>\n",
    "  \n",
    "<div class=\"alert alert-warning\">\n",
    "  If I have some (optional) suggestions, or questions to think about, or general comments.\n",
    "</div>\n",
    "  \n",
    "<div class=\"alert alert-danger\">\n",
    "  If a section requires some corrections. Work can't be accepted with red comments.\n",
    "</div>\n",
    "  \n",
    "Please don't remove my comments, as it will make further review iterations much harder for me.\n",
    "  \n",
    "Feel free to reply to my comments or ask questions using the following template:\n",
    "  \n",
    "<div class=\"alert alert-info\">\n",
    "  For your comments and questions.\n",
    "</div>\n",
    "  \n",
    "First of all, thank you for turning in the project! You did a pretty good job overall, but there's one small problem that needs to be fixed before the project can be accepted. I also added some suggestions for imporvements. Let me know if you have any questions!"
   ]
  },
  {
   "cell_type": "markdown",
   "metadata": {},
   "source": [
    "# Project description\n",
    "\n",
    "Sweet Lift Taxi company has collected historical data on taxi orders at airports. To attract more drivers during peak hours, we need to predict the amount of taxi orders for the next hour. Build a model for such a prediction.\n",
    "\n",
    "The RMSE metric on the test set should not be more than 48.\n",
    "\n",
    "## Project instructions\n",
    "\n",
    "1. Download the data and resample it by one hour.\n",
    "2. Analyze the data.\n",
    "3. Train different models with different hyperparameters. The test sample should be 10% of the initial dataset. \n",
    "4. Test the data using the test sample and provide a conclusion.\n",
    "\n",
    "## Data description\n",
    "\n",
    "The data is stored in file `taxi.csv`. The number of orders is in the '*num_orders*' column."
   ]
  },
  {
   "cell_type": "markdown",
   "metadata": {},
   "source": [
    "## Preparation"
   ]
  },
  {
   "cell_type": "code",
   "execution_count": 1,
   "metadata": {},
   "outputs": [],
   "source": [
    "import numpy as np\n",
    "import pandas as pd\n",
    "import matplotlib.pyplot as plt\n",
    "from matplotlib import pyplot\n",
    "\n",
    "import sklearn.metrics\n",
    "import sklearn.preprocessing\n",
    "\n",
    "from sklearn.model_selection import TimeSeriesSplit, train_test_split, GridSearchCV\n",
    "from statsmodels.tsa.seasonal import seasonal_decompose\n",
    "from sklearn.metrics import mean_squared_error\n",
    "from sklearn.metrics import mean_absolute_error\n",
    "from sklearn.model_selection import GridSearchCV\n",
    "import lightgbm as lgb\n",
    "import xgboost as xgb\n",
    "from sklearn.linear_model import LinearRegression\n",
    "from sklearn.ensemble import RandomForestRegressor\n",
    "\n",
    "from sklearn.utils import shuffle\n",
    "from IPython.display import display\n",
    "from collections import Counter"
   ]
  },
  {
   "cell_type": "code",
   "execution_count": 2,
   "metadata": {
    "scrolled": true
   },
   "outputs": [
    {
     "name": "stdout",
     "output_type": "stream",
     "text": [
      "<class 'pandas.core.frame.DataFrame'>\n",
      "DatetimeIndex: 26496 entries, 2018-03-01 00:00:00 to 2018-08-31 23:50:00\n",
      "Data columns (total 1 columns):\n",
      " #   Column      Non-Null Count  Dtype\n",
      "---  ------      --------------  -----\n",
      " 0   num_orders  26496 non-null  int64\n",
      "dtypes: int64(1)\n",
      "memory usage: 414.0 KB\n"
     ]
    },
    {
     "data": {
      "text/plain": [
       "True"
      ]
     },
     "metadata": {},
     "output_type": "display_data"
    },
    {
     "data": {
      "text/plain": [
       "None"
      ]
     },
     "metadata": {},
     "output_type": "display_data"
    },
    {
     "data": {
      "text/html": [
       "<div>\n",
       "<style scoped>\n",
       "    .dataframe tbody tr th:only-of-type {\n",
       "        vertical-align: middle;\n",
       "    }\n",
       "\n",
       "    .dataframe tbody tr th {\n",
       "        vertical-align: top;\n",
       "    }\n",
       "\n",
       "    .dataframe thead th {\n",
       "        text-align: right;\n",
       "    }\n",
       "</style>\n",
       "<table border=\"1\" class=\"dataframe\">\n",
       "  <thead>\n",
       "    <tr style=\"text-align: right;\">\n",
       "      <th></th>\n",
       "      <th>num_orders</th>\n",
       "    </tr>\n",
       "    <tr>\n",
       "      <th>datetime</th>\n",
       "      <th></th>\n",
       "    </tr>\n",
       "  </thead>\n",
       "  <tbody>\n",
       "    <tr>\n",
       "      <th>2018-03-01 00:00:00</th>\n",
       "      <td>9</td>\n",
       "    </tr>\n",
       "    <tr>\n",
       "      <th>2018-03-01 00:10:00</th>\n",
       "      <td>14</td>\n",
       "    </tr>\n",
       "    <tr>\n",
       "      <th>2018-03-01 00:20:00</th>\n",
       "      <td>28</td>\n",
       "    </tr>\n",
       "    <tr>\n",
       "      <th>2018-03-01 00:30:00</th>\n",
       "      <td>20</td>\n",
       "    </tr>\n",
       "    <tr>\n",
       "      <th>2018-03-01 00:40:00</th>\n",
       "      <td>32</td>\n",
       "    </tr>\n",
       "  </tbody>\n",
       "</table>\n",
       "</div>"
      ],
      "text/plain": [
       "                     num_orders\n",
       "datetime                       \n",
       "2018-03-01 00:00:00           9\n",
       "2018-03-01 00:10:00          14\n",
       "2018-03-01 00:20:00          28\n",
       "2018-03-01 00:30:00          20\n",
       "2018-03-01 00:40:00          32"
      ]
     },
     "metadata": {},
     "output_type": "display_data"
    },
    {
     "data": {
      "text/plain": [
       "<AxesSubplot:xlabel='datetime'>"
      ]
     },
     "metadata": {},
     "output_type": "display_data"
    },
    {
     "data": {
      "image/png": "[encoded data removed]",
      "text/plain": [
       "<Figure size 432x288 with 1 Axes>"
      ]
     },
     "metadata": {
      "needs_background": "light"
     },
     "output_type": "display_data"
    }
   ],
   "source": [
    "df = pd.read_csv('/datasets/taxi.csv', parse_dates=['datetime'], index_col=[0])\n",
    "df=df.sort_index()\n",
    "\n",
    "display(df.index.is_monotonic, #returns true if chronological, \n",
    "        df.info(),\n",
    "       df.head(),\n",
    "       df.plot())"
   ]
  },
  {
   "cell_type": "markdown",
   "metadata": {},
   "source": [
    "**Searching for strange values**"
   ]
  },
  {
   "cell_type": "code",
   "execution_count": 3,
   "metadata": {},
   "outputs": [
    {
     "data": {
      "text/plain": [
       "0"
      ]
     },
     "execution_count": 3,
     "metadata": {},
     "output_type": "execute_result"
    }
   ],
   "source": [
    "(df['num_orders'] < 0).sum().sum() #counting the number of negative values"
   ]
  },
  {
   "cell_type": "markdown",
   "metadata": {},
   "source": [
    "### Initial Dataframe Info\n",
    "\n",
    "1) The data was loaded successfully.\n",
    "\n",
    "2) datetime was correctly formated in datetime dtype and was set as the dataframe index.\n",
    "\n",
    "3) There are no missing values.\n",
    "\n",
    "4) There are no duplicate rows.\n",
    "\n",
    "5) The data is relatively small with only 2 columns and 26,496 rows.\n",
    "\n",
    "6) The data spans 5 months: March - August 2018.\n",
    "\n",
    "7) The initial graph does not represent anything useful as it is, but it can be further analyzed in the next section."
   ]
  },
  {
   "cell_type": "markdown",
   "metadata": {},
   "source": [
    "<div class=\"alert alert-success\">\n",
    "<b>Reviewer's comment</b>\n",
    "\n",
    "The data was loaded and initially inspected\n",
    "\n",
    "</div>"
   ]
  },
  {
   "cell_type": "markdown",
   "metadata": {},
   "source": [
    "## Analysis"
   ]
  },
  {
   "cell_type": "markdown",
   "metadata": {},
   "source": [
    "Before we resample the data for 1H intervals, we should understand the general trend of the company"
   ]
  },
  {
   "cell_type": "code",
   "execution_count": 4,
   "metadata": {},
   "outputs": [
    {
     "data": {
      "text/plain": [
       "<AxesSubplot:xlabel='datetime'>"
      ]
     },
     "execution_count": 4,
     "metadata": {},
     "output_type": "execute_result"
    },
    {
     "data": {
      "image/png": "[encoded data removed]",
      "text/plain": [
       "<Figure size 432x288 with 1 Axes>"
      ]
     },
     "metadata": {
      "needs_background": "light"
     },
     "output_type": "display_data"
    }
   ],
   "source": [
    "df.resample('1D').sum().plot()"
   ]
  },
  {
   "cell_type": "markdown",
   "metadata": {},
   "source": [
    "We can see that their order numbers are nearly quadrupled in the past 5 months, which shows some insight as to why they are requesting a model to predict orders by the hour."
   ]
  },
  {
   "cell_type": "markdown",
   "metadata": {},
   "source": [
    "**Now, we can analyze the data further by seeing if it is stationary**"
   ]
  },
  {
   "cell_type": "code",
   "execution_count": 5,
   "metadata": {
    "scrolled": true
   },
   "outputs": [
    {
     "data": {
      "text/plain": [
       "<AxesSubplot:xlabel='datetime'>"
      ]
     },
     "execution_count": 5,
     "metadata": {},
     "output_type": "execute_result"
    },
    {
     "data": {
      "image/png": "[encoded data removed]",
      "text/plain": [
       "<Figure size 432x288 with 1 Axes>"
      ]
     },
     "metadata": {
      "needs_background": "light"
     },
     "output_type": "display_data"
    }
   ],
   "source": [
    "df.plot()"
   ]
  },
  {
   "cell_type": "markdown",
   "metadata": {},
   "source": [
    "It looks like the data is stationary enough for forcasting"
   ]
  },
  {
   "cell_type": "markdown",
   "metadata": {},
   "source": [
    "<div class=\"alert alert-warning\">\n",
    "<b>Reviewer's comment</b>\n",
    "\n",
    "It would be nice to dive a bit more into the data. For example, you could do a seasonal decomposition to check for a seasonality pattern ([example](https://machinelearningmastery.com/decompose-time-series-data-trend-seasonality/))\n",
    "\n",
    "</div>"
   ]
  },
  {
   "cell_type": "code",
   "execution_count": 6,
   "metadata": {},
   "outputs": [
    {
     "data": {
      "image/png": "[encoded data removed]",
      "text/plain": [
       "<Figure size 432x576 with 3 Axes>"
      ]
     },
     "metadata": {
      "needs_background": "light"
     },
     "output_type": "display_data"
    }
   ],
   "source": [
    "df = df.resample('1H').sum() \n",
    "\n",
    "decomposed = seasonal_decompose(df, period=24)\n",
    "plt.figure(figsize=(6, 8))\n",
    "plt.subplot(311)\n",
    "# To display the graph correctly, specify its\n",
    "# axes ax equal to plt.gca() (gca = get current axis)\n",
    "decomposed.trend.plot(ax=plt.gca())\n",
    "plt.title('Trend')\n",
    "plt.subplot(312)\n",
    "decomposed.seasonal.plot(ax=plt.gca())\n",
    "plt.title('Seasonality')\n",
    "plt.subplot(313)\n",
    "decomposed.resid.plot(ax=plt.gca())\n",
    "plt.title('Residuals')\n",
    "plt.tight_layout()"
   ]
  },
  {
   "cell_type": "markdown",
   "metadata": {},
   "source": [
    "<div class=\"alert alert-info\">\n",
    "<b>Student's comment V2</b>  \n",
    "    I tried making the seasonal decomposition, but was unable to replicate the 24-hour window that you mention in your other comment. I tried using the period arguement, which lets me at least plot the graph without errors, but I don't know what value to use for it.\n",
    "</div>"
   ]
  },
  {
   "cell_type": "markdown",
   "metadata": {},
   "source": [
    "<div class=\"alert alert-warning\">\n",
    "<b>Reviewer's comment V2</b>\n",
    "\n",
    "Yeah, the plot seems too busy to discern anything! But we can just look at a smaller slice of the decomposed data (I added an example below). Seasonality is periodic by definition, so any other slice of the same length will look the same (up to moving the starting point).\n",
    "    \n",
    "\n",
    "</div>"
   ]
  },
  {
   "cell_type": "code",
   "execution_count": 9,
   "metadata": {},
   "outputs": [
    {
     "data": {
      "text/plain": [
       "<AxesSubplot:xlabel='datetime'>"
      ]
     },
     "execution_count": 9,
     "metadata": {},
     "output_type": "execute_result"
    },
    {
     "data": {
      "image/png": "[encoded data removed]",
      "text/plain": [
       "<Figure size 432x288 with 1 Axes>"
      ]
     },
     "metadata": {
      "needs_background": "light"
     },
     "output_type": "display_data"
    }
   ],
   "source": [
    "decomposed.seasonal[-100:].plot()"
   ]
  },
  {
   "cell_type": "markdown",
   "metadata": {},
   "source": [
    "The following cell is to be used if time series difference was necessary"
   ]
  },
  {
   "cell_type": "code",
   "execution_count": 7,
   "metadata": {},
   "outputs": [],
   "source": [
    "#ts_diff = time series difference\n",
    "\n",
    "#ts_diff = df.resample('1H').sum()\n",
    "#ts_diff -= ts_diff.shift()\n",
    "#ts_diff['mean'] = ts_diff['num_orders'].rolling(15).mean()\n",
    "#ts_diff['std'] = ts_diff['num_orders'].rolling(15).std()\n",
    "#ts_diff.plot()"
   ]
  },
  {
   "cell_type": "markdown",
   "metadata": {},
   "source": [
    "**If we are going to predict order numbers by the hour, we will want to:**\n",
    "\n",
    "**1)** Resample to the data to 1H intervals\n",
    "\n",
    "**2)** Split the data into train and test"
   ]
  },
  {
   "cell_type": "code",
   "execution_count": 8,
   "metadata": {},
   "outputs": [
    {
     "name": "stdout",
     "output_type": "stream",
     "text": [
      "2018-03-01 00:00:00 2018-07-26 03:00:00\n",
      "2018-07-26 04:00:00 2018-08-31 23:00:00\n"
     ]
    }
   ],
   "source": [
    "train, test = train_test_split(df, shuffle=False, test_size=0.2) #4:1 ratio\n",
    "\n",
    "#ensuring the split worked\n",
    "print(train.index.min(), train.index.max())\n",
    "print(test.index.min(), test.index.max())"
   ]
  },
  {
   "cell_type": "markdown",
   "metadata": {},
   "source": [
    "<div class=\"alert alert-success\">\n",
    "<b>Reviewer's comment</b>\n",
    "\n",
    "The data was resampled correctly. The split into train and test is done without shuffling\n",
    "\n",
    "</div>"
   ]
  },
  {
   "cell_type": "markdown",
   "metadata": {},
   "source": [
    "**Next, we can measure the accuracy of the time series forecasting/model sanity check**"
   ]
  },
  {
   "cell_type": "code",
   "execution_count": 9,
   "metadata": {
    "scrolled": true
   },
   "outputs": [
    {
     "name": "stdout",
     "output_type": "stream",
     "text": [
      "Number of Orders: 120.0\n",
      "MAE: 40.671945701357465\n",
      "RMSE: 53.36807644753937\n"
     ]
    }
   ],
   "source": [
    "print('Number of Orders:', test['num_orders'].median())\n",
    "\n",
    "pred_previous = test['num_orders'].shift(fill_value=train['num_orders'].iloc[-1])\n",
    "\n",
    "\n",
    "print('MAE:', mean_absolute_error(test, pred_previous))\n",
    "print('RMSE:', mean_squared_error(test, pred_previous)**0.5)"
   ]
  },
  {
   "cell_type": "markdown",
   "metadata": {},
   "source": [
    "<div class=\"alert alert-success\">\n",
    "<b>Reviewer's comment</b>\n",
    "\n",
    "Using previous values is a nice simple baseline!\n",
    "\n",
    "</div>"
   ]
  },
  {
   "cell_type": "markdown",
   "metadata": {},
   "source": [
    "<div class=\"alert alert-info\">\n",
    "<b>Student's comment V1</b>  \n",
    "    This MAE is a 30% error, which is higher compared with the theory section's MAE \n",
    "    (13%). I'm unsure if this is still a small enough percentage to be considered acceptable.\n",
    "</div>"
   ]
  },
  {
   "cell_type": "markdown",
   "metadata": {},
   "source": [
    "<div class=\"alert alert-warning\">\n",
    "<b>Reviewer's comment</b>\n",
    "\n",
    "Not sure what you mean by 'theory section's MAE'. Could you elaborate on that?\n",
    "\n",
    "</div>"
   ]
  },
  {
   "cell_type": "markdown",
   "metadata": {},
   "source": [
    "**Now, we can make lag and rolling mean features**"
   ]
  },
  {
   "cell_type": "code",
   "execution_count": 10,
   "metadata": {
    "scrolled": true
   },
   "outputs": [
    {
     "data": {
      "text/html": [
       "<div>\n",
       "<style scoped>\n",
       "    .dataframe tbody tr th:only-of-type {\n",
       "        vertical-align: middle;\n",
       "    }\n",
       "\n",
       "    .dataframe tbody tr th {\n",
       "        vertical-align: top;\n",
       "    }\n",
       "\n",
       "    .dataframe thead th {\n",
       "        text-align: right;\n",
       "    }\n",
       "</style>\n",
       "<table border=\"1\" class=\"dataframe\">\n",
       "  <thead>\n",
       "    <tr style=\"text-align: right;\">\n",
       "      <th></th>\n",
       "      <th>num_orders</th>\n",
       "      <th>year</th>\n",
       "      <th>month</th>\n",
       "      <th>day</th>\n",
       "      <th>dayofweek</th>\n",
       "      <th>lag_1</th>\n",
       "      <th>lag_2</th>\n",
       "      <th>lag_3</th>\n",
       "      <th>lag_4</th>\n",
       "      <th>lag_5</th>\n",
       "      <th>...</th>\n",
       "      <th>lag_16</th>\n",
       "      <th>lag_17</th>\n",
       "      <th>lag_18</th>\n",
       "      <th>lag_19</th>\n",
       "      <th>lag_20</th>\n",
       "      <th>lag_21</th>\n",
       "      <th>lag_22</th>\n",
       "      <th>lag_23</th>\n",
       "      <th>lag_24</th>\n",
       "      <th>rolling_mean</th>\n",
       "    </tr>\n",
       "    <tr>\n",
       "      <th>datetime</th>\n",
       "      <th></th>\n",
       "      <th></th>\n",
       "      <th></th>\n",
       "      <th></th>\n",
       "      <th></th>\n",
       "      <th></th>\n",
       "      <th></th>\n",
       "      <th></th>\n",
       "      <th></th>\n",
       "      <th></th>\n",
       "      <th></th>\n",
       "      <th></th>\n",
       "      <th></th>\n",
       "      <th></th>\n",
       "      <th></th>\n",
       "      <th></th>\n",
       "      <th></th>\n",
       "      <th></th>\n",
       "      <th></th>\n",
       "      <th></th>\n",
       "      <th></th>\n",
       "    </tr>\n",
       "  </thead>\n",
       "  <tbody>\n",
       "    <tr>\n",
       "      <th>2018-03-01 00:00:00</th>\n",
       "      <td>124</td>\n",
       "      <td>2018</td>\n",
       "      <td>3</td>\n",
       "      <td>1</td>\n",
       "      <td>3</td>\n",
       "      <td>NaN</td>\n",
       "      <td>NaN</td>\n",
       "      <td>NaN</td>\n",
       "      <td>NaN</td>\n",
       "      <td>NaN</td>\n",
       "      <td>...</td>\n",
       "      <td>NaN</td>\n",
       "      <td>NaN</td>\n",
       "      <td>NaN</td>\n",
       "      <td>NaN</td>\n",
       "      <td>NaN</td>\n",
       "      <td>NaN</td>\n",
       "      <td>NaN</td>\n",
       "      <td>NaN</td>\n",
       "      <td>NaN</td>\n",
       "      <td>NaN</td>\n",
       "    </tr>\n",
       "    <tr>\n",
       "      <th>2018-03-01 01:00:00</th>\n",
       "      <td>85</td>\n",
       "      <td>2018</td>\n",
       "      <td>3</td>\n",
       "      <td>1</td>\n",
       "      <td>3</td>\n",
       "      <td>124.0</td>\n",
       "      <td>NaN</td>\n",
       "      <td>NaN</td>\n",
       "      <td>NaN</td>\n",
       "      <td>NaN</td>\n",
       "      <td>...</td>\n",
       "      <td>NaN</td>\n",
       "      <td>NaN</td>\n",
       "      <td>NaN</td>\n",
       "      <td>NaN</td>\n",
       "      <td>NaN</td>\n",
       "      <td>NaN</td>\n",
       "      <td>NaN</td>\n",
       "      <td>NaN</td>\n",
       "      <td>NaN</td>\n",
       "      <td>NaN</td>\n",
       "    </tr>\n",
       "    <tr>\n",
       "      <th>2018-03-01 02:00:00</th>\n",
       "      <td>71</td>\n",
       "      <td>2018</td>\n",
       "      <td>3</td>\n",
       "      <td>1</td>\n",
       "      <td>3</td>\n",
       "      <td>85.0</td>\n",
       "      <td>124.0</td>\n",
       "      <td>NaN</td>\n",
       "      <td>NaN</td>\n",
       "      <td>NaN</td>\n",
       "      <td>...</td>\n",
       "      <td>NaN</td>\n",
       "      <td>NaN</td>\n",
       "      <td>NaN</td>\n",
       "      <td>NaN</td>\n",
       "      <td>NaN</td>\n",
       "      <td>NaN</td>\n",
       "      <td>NaN</td>\n",
       "      <td>NaN</td>\n",
       "      <td>NaN</td>\n",
       "      <td>NaN</td>\n",
       "    </tr>\n",
       "    <tr>\n",
       "      <th>2018-03-01 03:00:00</th>\n",
       "      <td>66</td>\n",
       "      <td>2018</td>\n",
       "      <td>3</td>\n",
       "      <td>1</td>\n",
       "      <td>3</td>\n",
       "      <td>71.0</td>\n",
       "      <td>85.0</td>\n",
       "      <td>124.0</td>\n",
       "      <td>NaN</td>\n",
       "      <td>NaN</td>\n",
       "      <td>...</td>\n",
       "      <td>NaN</td>\n",
       "      <td>NaN</td>\n",
       "      <td>NaN</td>\n",
       "      <td>NaN</td>\n",
       "      <td>NaN</td>\n",
       "      <td>NaN</td>\n",
       "      <td>NaN</td>\n",
       "      <td>NaN</td>\n",
       "      <td>NaN</td>\n",
       "      <td>NaN</td>\n",
       "    </tr>\n",
       "    <tr>\n",
       "      <th>2018-03-01 04:00:00</th>\n",
       "      <td>43</td>\n",
       "      <td>2018</td>\n",
       "      <td>3</td>\n",
       "      <td>1</td>\n",
       "      <td>3</td>\n",
       "      <td>66.0</td>\n",
       "      <td>71.0</td>\n",
       "      <td>85.0</td>\n",
       "      <td>124.0</td>\n",
       "      <td>NaN</td>\n",
       "      <td>...</td>\n",
       "      <td>NaN</td>\n",
       "      <td>NaN</td>\n",
       "      <td>NaN</td>\n",
       "      <td>NaN</td>\n",
       "      <td>NaN</td>\n",
       "      <td>NaN</td>\n",
       "      <td>NaN</td>\n",
       "      <td>NaN</td>\n",
       "      <td>NaN</td>\n",
       "      <td>NaN</td>\n",
       "    </tr>\n",
       "    <tr>\n",
       "      <th>2018-03-01 05:00:00</th>\n",
       "      <td>6</td>\n",
       "      <td>2018</td>\n",
       "      <td>3</td>\n",
       "      <td>1</td>\n",
       "      <td>3</td>\n",
       "      <td>43.0</td>\n",
       "      <td>66.0</td>\n",
       "      <td>71.0</td>\n",
       "      <td>85.0</td>\n",
       "      <td>124.0</td>\n",
       "      <td>...</td>\n",
       "      <td>NaN</td>\n",
       "      <td>NaN</td>\n",
       "      <td>NaN</td>\n",
       "      <td>NaN</td>\n",
       "      <td>NaN</td>\n",
       "      <td>NaN</td>\n",
       "      <td>NaN</td>\n",
       "      <td>NaN</td>\n",
       "      <td>NaN</td>\n",
       "      <td>NaN</td>\n",
       "    </tr>\n",
       "    <tr>\n",
       "      <th>2018-03-01 06:00:00</th>\n",
       "      <td>12</td>\n",
       "      <td>2018</td>\n",
       "      <td>3</td>\n",
       "      <td>1</td>\n",
       "      <td>3</td>\n",
       "      <td>6.0</td>\n",
       "      <td>43.0</td>\n",
       "      <td>66.0</td>\n",
       "      <td>71.0</td>\n",
       "      <td>85.0</td>\n",
       "      <td>...</td>\n",
       "      <td>NaN</td>\n",
       "      <td>NaN</td>\n",
       "      <td>NaN</td>\n",
       "      <td>NaN</td>\n",
       "      <td>NaN</td>\n",
       "      <td>NaN</td>\n",
       "      <td>NaN</td>\n",
       "      <td>NaN</td>\n",
       "      <td>NaN</td>\n",
       "      <td>NaN</td>\n",
       "    </tr>\n",
       "    <tr>\n",
       "      <th>2018-03-01 07:00:00</th>\n",
       "      <td>15</td>\n",
       "      <td>2018</td>\n",
       "      <td>3</td>\n",
       "      <td>1</td>\n",
       "      <td>3</td>\n",
       "      <td>12.0</td>\n",
       "      <td>6.0</td>\n",
       "      <td>43.0</td>\n",
       "      <td>66.0</td>\n",
       "      <td>71.0</td>\n",
       "      <td>...</td>\n",
       "      <td>NaN</td>\n",
       "      <td>NaN</td>\n",
       "      <td>NaN</td>\n",
       "      <td>NaN</td>\n",
       "      <td>NaN</td>\n",
       "      <td>NaN</td>\n",
       "      <td>NaN</td>\n",
       "      <td>NaN</td>\n",
       "      <td>NaN</td>\n",
       "      <td>NaN</td>\n",
       "    </tr>\n",
       "    <tr>\n",
       "      <th>2018-03-01 08:00:00</th>\n",
       "      <td>34</td>\n",
       "      <td>2018</td>\n",
       "      <td>3</td>\n",
       "      <td>1</td>\n",
       "      <td>3</td>\n",
       "      <td>15.0</td>\n",
       "      <td>12.0</td>\n",
       "      <td>6.0</td>\n",
       "      <td>43.0</td>\n",
       "      <td>66.0</td>\n",
       "      <td>...</td>\n",
       "      <td>NaN</td>\n",
       "      <td>NaN</td>\n",
       "      <td>NaN</td>\n",
       "      <td>NaN</td>\n",
       "      <td>NaN</td>\n",
       "      <td>NaN</td>\n",
       "      <td>NaN</td>\n",
       "      <td>NaN</td>\n",
       "      <td>NaN</td>\n",
       "      <td>NaN</td>\n",
       "    </tr>\n",
       "    <tr>\n",
       "      <th>2018-03-01 09:00:00</th>\n",
       "      <td>69</td>\n",
       "      <td>2018</td>\n",
       "      <td>3</td>\n",
       "      <td>1</td>\n",
       "      <td>3</td>\n",
       "      <td>34.0</td>\n",
       "      <td>15.0</td>\n",
       "      <td>12.0</td>\n",
       "      <td>6.0</td>\n",
       "      <td>43.0</td>\n",
       "      <td>...</td>\n",
       "      <td>NaN</td>\n",
       "      <td>NaN</td>\n",
       "      <td>NaN</td>\n",
       "      <td>NaN</td>\n",
       "      <td>NaN</td>\n",
       "      <td>NaN</td>\n",
       "      <td>NaN</td>\n",
       "      <td>NaN</td>\n",
       "      <td>NaN</td>\n",
       "      <td>NaN</td>\n",
       "    </tr>\n",
       "    <tr>\n",
       "      <th>2018-03-01 10:00:00</th>\n",
       "      <td>64</td>\n",
       "      <td>2018</td>\n",
       "      <td>3</td>\n",
       "      <td>1</td>\n",
       "      <td>3</td>\n",
       "      <td>69.0</td>\n",
       "      <td>34.0</td>\n",
       "      <td>15.0</td>\n",
       "      <td>12.0</td>\n",
       "      <td>6.0</td>\n",
       "      <td>...</td>\n",
       "      <td>NaN</td>\n",
       "      <td>NaN</td>\n",
       "      <td>NaN</td>\n",
       "      <td>NaN</td>\n",
       "      <td>NaN</td>\n",
       "      <td>NaN</td>\n",
       "      <td>NaN</td>\n",
       "      <td>NaN</td>\n",
       "      <td>NaN</td>\n",
       "      <td>52.5</td>\n",
       "    </tr>\n",
       "    <tr>\n",
       "      <th>2018-03-01 11:00:00</th>\n",
       "      <td>96</td>\n",
       "      <td>2018</td>\n",
       "      <td>3</td>\n",
       "      <td>1</td>\n",
       "      <td>3</td>\n",
       "      <td>64.0</td>\n",
       "      <td>69.0</td>\n",
       "      <td>34.0</td>\n",
       "      <td>15.0</td>\n",
       "      <td>12.0</td>\n",
       "      <td>...</td>\n",
       "      <td>NaN</td>\n",
       "      <td>NaN</td>\n",
       "      <td>NaN</td>\n",
       "      <td>NaN</td>\n",
       "      <td>NaN</td>\n",
       "      <td>NaN</td>\n",
       "      <td>NaN</td>\n",
       "      <td>NaN</td>\n",
       "      <td>NaN</td>\n",
       "      <td>46.5</td>\n",
       "    </tr>\n",
       "    <tr>\n",
       "      <th>2018-03-01 12:00:00</th>\n",
       "      <td>30</td>\n",
       "      <td>2018</td>\n",
       "      <td>3</td>\n",
       "      <td>1</td>\n",
       "      <td>3</td>\n",
       "      <td>96.0</td>\n",
       "      <td>64.0</td>\n",
       "      <td>69.0</td>\n",
       "      <td>34.0</td>\n",
       "      <td>15.0</td>\n",
       "      <td>...</td>\n",
       "      <td>NaN</td>\n",
       "      <td>NaN</td>\n",
       "      <td>NaN</td>\n",
       "      <td>NaN</td>\n",
       "      <td>NaN</td>\n",
       "      <td>NaN</td>\n",
       "      <td>NaN</td>\n",
       "      <td>NaN</td>\n",
       "      <td>NaN</td>\n",
       "      <td>47.6</td>\n",
       "    </tr>\n",
       "    <tr>\n",
       "      <th>2018-03-01 13:00:00</th>\n",
       "      <td>32</td>\n",
       "      <td>2018</td>\n",
       "      <td>3</td>\n",
       "      <td>1</td>\n",
       "      <td>3</td>\n",
       "      <td>30.0</td>\n",
       "      <td>96.0</td>\n",
       "      <td>64.0</td>\n",
       "      <td>69.0</td>\n",
       "      <td>34.0</td>\n",
       "      <td>...</td>\n",
       "      <td>NaN</td>\n",
       "      <td>NaN</td>\n",
       "      <td>NaN</td>\n",
       "      <td>NaN</td>\n",
       "      <td>NaN</td>\n",
       "      <td>NaN</td>\n",
       "      <td>NaN</td>\n",
       "      <td>NaN</td>\n",
       "      <td>NaN</td>\n",
       "      <td>43.5</td>\n",
       "    </tr>\n",
       "    <tr>\n",
       "      <th>2018-03-01 14:00:00</th>\n",
       "      <td>48</td>\n",
       "      <td>2018</td>\n",
       "      <td>3</td>\n",
       "      <td>1</td>\n",
       "      <td>3</td>\n",
       "      <td>32.0</td>\n",
       "      <td>30.0</td>\n",
       "      <td>96.0</td>\n",
       "      <td>64.0</td>\n",
       "      <td>69.0</td>\n",
       "      <td>...</td>\n",
       "      <td>NaN</td>\n",
       "      <td>NaN</td>\n",
       "      <td>NaN</td>\n",
       "      <td>NaN</td>\n",
       "      <td>NaN</td>\n",
       "      <td>NaN</td>\n",
       "      <td>NaN</td>\n",
       "      <td>NaN</td>\n",
       "      <td>NaN</td>\n",
       "      <td>40.1</td>\n",
       "    </tr>\n",
       "    <tr>\n",
       "      <th>2018-03-01 15:00:00</th>\n",
       "      <td>66</td>\n",
       "      <td>2018</td>\n",
       "      <td>3</td>\n",
       "      <td>1</td>\n",
       "      <td>3</td>\n",
       "      <td>48.0</td>\n",
       "      <td>32.0</td>\n",
       "      <td>30.0</td>\n",
       "      <td>96.0</td>\n",
       "      <td>64.0</td>\n",
       "      <td>...</td>\n",
       "      <td>NaN</td>\n",
       "      <td>NaN</td>\n",
       "      <td>NaN</td>\n",
       "      <td>NaN</td>\n",
       "      <td>NaN</td>\n",
       "      <td>NaN</td>\n",
       "      <td>NaN</td>\n",
       "      <td>NaN</td>\n",
       "      <td>NaN</td>\n",
       "      <td>40.6</td>\n",
       "    </tr>\n",
       "    <tr>\n",
       "      <th>2018-03-01 16:00:00</th>\n",
       "      <td>43</td>\n",
       "      <td>2018</td>\n",
       "      <td>3</td>\n",
       "      <td>1</td>\n",
       "      <td>3</td>\n",
       "      <td>66.0</td>\n",
       "      <td>48.0</td>\n",
       "      <td>32.0</td>\n",
       "      <td>30.0</td>\n",
       "      <td>96.0</td>\n",
       "      <td>...</td>\n",
       "      <td>124.0</td>\n",
       "      <td>NaN</td>\n",
       "      <td>NaN</td>\n",
       "      <td>NaN</td>\n",
       "      <td>NaN</td>\n",
       "      <td>NaN</td>\n",
       "      <td>NaN</td>\n",
       "      <td>NaN</td>\n",
       "      <td>NaN</td>\n",
       "      <td>46.6</td>\n",
       "    </tr>\n",
       "    <tr>\n",
       "      <th>2018-03-01 17:00:00</th>\n",
       "      <td>44</td>\n",
       "      <td>2018</td>\n",
       "      <td>3</td>\n",
       "      <td>1</td>\n",
       "      <td>3</td>\n",
       "      <td>43.0</td>\n",
       "      <td>66.0</td>\n",
       "      <td>48.0</td>\n",
       "      <td>32.0</td>\n",
       "      <td>30.0</td>\n",
       "      <td>...</td>\n",
       "      <td>85.0</td>\n",
       "      <td>124.0</td>\n",
       "      <td>NaN</td>\n",
       "      <td>NaN</td>\n",
       "      <td>NaN</td>\n",
       "      <td>NaN</td>\n",
       "      <td>NaN</td>\n",
       "      <td>NaN</td>\n",
       "      <td>NaN</td>\n",
       "      <td>49.7</td>\n",
       "    </tr>\n",
       "    <tr>\n",
       "      <th>2018-03-01 18:00:00</th>\n",
       "      <td>73</td>\n",
       "      <td>2018</td>\n",
       "      <td>3</td>\n",
       "      <td>1</td>\n",
       "      <td>3</td>\n",
       "      <td>44.0</td>\n",
       "      <td>43.0</td>\n",
       "      <td>66.0</td>\n",
       "      <td>48.0</td>\n",
       "      <td>32.0</td>\n",
       "      <td>...</td>\n",
       "      <td>71.0</td>\n",
       "      <td>85.0</td>\n",
       "      <td>124.0</td>\n",
       "      <td>NaN</td>\n",
       "      <td>NaN</td>\n",
       "      <td>NaN</td>\n",
       "      <td>NaN</td>\n",
       "      <td>NaN</td>\n",
       "      <td>NaN</td>\n",
       "      <td>52.6</td>\n",
       "    </tr>\n",
       "    <tr>\n",
       "      <th>2018-03-01 19:00:00</th>\n",
       "      <td>45</td>\n",
       "      <td>2018</td>\n",
       "      <td>3</td>\n",
       "      <td>1</td>\n",
       "      <td>3</td>\n",
       "      <td>73.0</td>\n",
       "      <td>44.0</td>\n",
       "      <td>43.0</td>\n",
       "      <td>66.0</td>\n",
       "      <td>48.0</td>\n",
       "      <td>...</td>\n",
       "      <td>66.0</td>\n",
       "      <td>71.0</td>\n",
       "      <td>85.0</td>\n",
       "      <td>124.0</td>\n",
       "      <td>NaN</td>\n",
       "      <td>NaN</td>\n",
       "      <td>NaN</td>\n",
       "      <td>NaN</td>\n",
       "      <td>NaN</td>\n",
       "      <td>56.5</td>\n",
       "    </tr>\n",
       "  </tbody>\n",
       "</table>\n",
       "<p>20 rows × 30 columns</p>\n",
       "</div>"
      ],
      "text/plain": [
       "                     num_orders  year  month  day  dayofweek  lag_1  lag_2  \\\n",
       "datetime                                                                     \n",
       "2018-03-01 00:00:00         124  2018      3    1          3    NaN    NaN   \n",
       "2018-03-01 01:00:00          85  2018      3    1          3  124.0    NaN   \n",
       "2018-03-01 02:00:00          71  2018      3    1          3   85.0  124.0   \n",
       "2018-03-01 03:00:00          66  2018      3    1          3   71.0   85.0   \n",
       "2018-03-01 04:00:00          43  2018      3    1          3   66.0   71.0   \n",
       "2018-03-01 05:00:00           6  2018      3    1          3   43.0   66.0   \n",
       "2018-03-01 06:00:00          12  2018      3    1          3    6.0   43.0   \n",
       "2018-03-01 07:00:00          15  2018      3    1          3   12.0    6.0   \n",
       "2018-03-01 08:00:00          34  2018      3    1          3   15.0   12.0   \n",
       "2018-03-01 09:00:00          69  2018      3    1          3   34.0   15.0   \n",
       "2018-03-01 10:00:00          64  2018      3    1          3   69.0   34.0   \n",
       "2018-03-01 11:00:00          96  2018      3    1          3   64.0   69.0   \n",
       "2018-03-01 12:00:00          30  2018      3    1          3   96.0   64.0   \n",
       "2018-03-01 13:00:00          32  2018      3    1          3   30.0   96.0   \n",
       "2018-03-01 14:00:00          48  2018      3    1          3   32.0   30.0   \n",
       "2018-03-01 15:00:00          66  2018      3    1          3   48.0   32.0   \n",
       "2018-03-01 16:00:00          43  2018      3    1          3   66.0   48.0   \n",
       "2018-03-01 17:00:00          44  2018      3    1          3   43.0   66.0   \n",
       "2018-03-01 18:00:00          73  2018      3    1          3   44.0   43.0   \n",
       "2018-03-01 19:00:00          45  2018      3    1          3   73.0   44.0   \n",
       "\n",
       "                     lag_3  lag_4  lag_5  ...  lag_16  lag_17  lag_18  lag_19  \\\n",
       "datetime                                  ...                                   \n",
       "2018-03-01 00:00:00    NaN    NaN    NaN  ...     NaN     NaN     NaN     NaN   \n",
       "2018-03-01 01:00:00    NaN    NaN    NaN  ...     NaN     NaN     NaN     NaN   \n",
       "2018-03-01 02:00:00    NaN    NaN    NaN  ...     NaN     NaN     NaN     NaN   \n",
       "2018-03-01 03:00:00  124.0    NaN    NaN  ...     NaN     NaN     NaN     NaN   \n",
       "2018-03-01 04:00:00   85.0  124.0    NaN  ...     NaN     NaN     NaN     NaN   \n",
       "2018-03-01 05:00:00   71.0   85.0  124.0  ...     NaN     NaN     NaN     NaN   \n",
       "2018-03-01 06:00:00   66.0   71.0   85.0  ...     NaN     NaN     NaN     NaN   \n",
       "2018-03-01 07:00:00   43.0   66.0   71.0  ...     NaN     NaN     NaN     NaN   \n",
       "2018-03-01 08:00:00    6.0   43.0   66.0  ...     NaN     NaN     NaN     NaN   \n",
       "2018-03-01 09:00:00   12.0    6.0   43.0  ...     NaN     NaN     NaN     NaN   \n",
       "2018-03-01 10:00:00   15.0   12.0    6.0  ...     NaN     NaN     NaN     NaN   \n",
       "2018-03-01 11:00:00   34.0   15.0   12.0  ...     NaN     NaN     NaN     NaN   \n",
       "2018-03-01 12:00:00   69.0   34.0   15.0  ...     NaN     NaN     NaN     NaN   \n",
       "2018-03-01 13:00:00   64.0   69.0   34.0  ...     NaN     NaN     NaN     NaN   \n",
       "2018-03-01 14:00:00   96.0   64.0   69.0  ...     NaN     NaN     NaN     NaN   \n",
       "2018-03-01 15:00:00   30.0   96.0   64.0  ...     NaN     NaN     NaN     NaN   \n",
       "2018-03-01 16:00:00   32.0   30.0   96.0  ...   124.0     NaN     NaN     NaN   \n",
       "2018-03-01 17:00:00   48.0   32.0   30.0  ...    85.0   124.0     NaN     NaN   \n",
       "2018-03-01 18:00:00   66.0   48.0   32.0  ...    71.0    85.0   124.0     NaN   \n",
       "2018-03-01 19:00:00   43.0   66.0   48.0  ...    66.0    71.0    85.0   124.0   \n",
       "\n",
       "                     lag_20  lag_21  lag_22  lag_23  lag_24  rolling_mean  \n",
       "datetime                                                                   \n",
       "2018-03-01 00:00:00     NaN     NaN     NaN     NaN     NaN           NaN  \n",
       "2018-03-01 01:00:00     NaN     NaN     NaN     NaN     NaN           NaN  \n",
       "2018-03-01 02:00:00     NaN     NaN     NaN     NaN     NaN           NaN  \n",
       "2018-03-01 03:00:00     NaN     NaN     NaN     NaN     NaN           NaN  \n",
       "2018-03-01 04:00:00     NaN     NaN     NaN     NaN     NaN           NaN  \n",
       "2018-03-01 05:00:00     NaN     NaN     NaN     NaN     NaN           NaN  \n",
       "2018-03-01 06:00:00     NaN     NaN     NaN     NaN     NaN           NaN  \n",
       "2018-03-01 07:00:00     NaN     NaN     NaN     NaN     NaN           NaN  \n",
       "2018-03-01 08:00:00     NaN     NaN     NaN     NaN     NaN           NaN  \n",
       "2018-03-01 09:00:00     NaN     NaN     NaN     NaN     NaN           NaN  \n",
       "2018-03-01 10:00:00     NaN     NaN     NaN     NaN     NaN          52.5  \n",
       "2018-03-01 11:00:00     NaN     NaN     NaN     NaN     NaN          46.5  \n",
       "2018-03-01 12:00:00     NaN     NaN     NaN     NaN     NaN          47.6  \n",
       "2018-03-01 13:00:00     NaN     NaN     NaN     NaN     NaN          43.5  \n",
       "2018-03-01 14:00:00     NaN     NaN     NaN     NaN     NaN          40.1  \n",
       "2018-03-01 15:00:00     NaN     NaN     NaN     NaN     NaN          40.6  \n",
       "2018-03-01 16:00:00     NaN     NaN     NaN     NaN     NaN          46.6  \n",
       "2018-03-01 17:00:00     NaN     NaN     NaN     NaN     NaN          49.7  \n",
       "2018-03-01 18:00:00     NaN     NaN     NaN     NaN     NaN          52.6  \n",
       "2018-03-01 19:00:00     NaN     NaN     NaN     NaN     NaN          56.5  \n",
       "\n",
       "[20 rows x 30 columns]"
      ]
     },
     "execution_count": 10,
     "metadata": {},
     "output_type": "execute_result"
    }
   ],
   "source": [
    "#lag features exclude current value\n",
    "#using lag features is also called the \"sliding window\" method. The predetermined size of the \n",
    "#window (rolling_mean) will move across the data and compute the mean\n",
    "\n",
    "def make_features(df, max_lag, rolling_mean_size):\n",
    "    df['year'] = df.index.year\n",
    "    df['month'] = df.index.month\n",
    "    df['day'] = df.index.day\n",
    "    df['dayofweek'] = df.index.dayofweek\n",
    "\n",
    "    for lag in range(1, max_lag + 1): \n",
    "        df['lag_{}'.format(lag)] = df['num_orders'].shift(lag)\n",
    "\n",
    "    df['rolling_mean'] = (\n",
    "        df['num_orders'].shift().rolling(rolling_mean_size).mean()\n",
    "    )\n",
    "\n",
    "\n",
    "make_features(df, 24, 10)\n",
    "\n",
    "df.head(20)"
   ]
  },
  {
   "cell_type": "markdown",
   "metadata": {},
   "source": [
    "<div class=\"alert alert-warning\">\n",
    "<b>Reviewer's comment</b>\n",
    "\n",
    "Feature engineering looks good, although I would suggest using more lag features (if you check the seasonal decomposition, there seems to be a nice 24-hour pattern, so it would make sense to use at least 24 lags). Also, as we're doing hourly predictions adding an 'hour' feature would make sense. On the other hand 'year` is not very useful, as we only have data for 2018\n",
    "\n",
    "</div>"
   ]
  },
  {
   "cell_type": "markdown",
   "metadata": {},
   "source": [
    "### Analysis Conclusion\n",
    "\n",
    "1) The data was stationary enough to disregard the usage of time series difference\n",
    "\n",
    "2) A model sanity check was performed which produced a 30% error when compared with the median \n",
    "\n",
    "3) The sliding window method was used to create the rolling mean feature"
   ]
  },
  {
   "cell_type": "markdown",
   "metadata": {},
   "source": [
    "## Training"
   ]
  },
  {
   "cell_type": "markdown",
   "metadata": {},
   "source": [
    "**First, we must split the data and drop the missing values in the train set**"
   ]
  },
  {
   "cell_type": "code",
   "execution_count": 11,
   "metadata": {
    "scrolled": true
   },
   "outputs": [
    {
     "name": "stdout",
     "output_type": "stream",
     "text": [
      "(3508, 30)\n",
      "(884, 30)\n"
     ]
    }
   ],
   "source": [
    "train, test = train_test_split(df, shuffle=False, test_size=0.2)\n",
    "train=train.dropna()\n",
    "\n",
    "print(train.shape)\n",
    "print(test.shape)"
   ]
  },
  {
   "cell_type": "markdown",
   "metadata": {},
   "source": [
    "<div class=\"alert alert-success\">\n",
    "<b>Reviewer's comment</b>\n",
    "\n",
    "Ok!\n",
    "\n",
    "</div>"
   ]
  },
  {
   "cell_type": "markdown",
   "metadata": {},
   "source": [
    "**Next, create the forecasting variables**"
   ]
  },
  {
   "cell_type": "code",
   "execution_count": 12,
   "metadata": {},
   "outputs": [],
   "source": [
    "X_train = train.drop(columns=['num_orders'])\n",
    "X_test = test.drop(columns=['num_orders'])\n",
    "y_train = train['num_orders']\n",
    "y_test = test['num_orders'] \n"
   ]
  },
  {
   "cell_type": "markdown",
   "metadata": {},
   "source": [
    "<div class=\"alert alert-success\">\n",
    "<b>Reviewer's comment</b>\n",
    "\n",
    "Correct!\n",
    "\n",
    "</div>"
   ]
  },
  {
   "cell_type": "markdown",
   "metadata": {},
   "source": [
    "**Linear Regression Training**"
   ]
  },
  {
   "cell_type": "code",
   "execution_count": 13,
   "metadata": {},
   "outputs": [
    {
     "name": "stdout",
     "output_type": "stream",
     "text": [
      "RMSE for the training set: 24.614213570629374\n"
     ]
    }
   ],
   "source": [
    "model_lr = LinearRegression()\n",
    "model_lr.fit(X_train, y_train)\n",
    "pred1_lr = model_lr.predict(X_train)\n",
    "pred2_lr = model_lr.predict(X_test) \n",
    "\n",
    "print(\"RMSE for the training set:\", mean_squared_error(pred1_lr, y_train)**0.5)\n",
    "#print(\"RMSE for the test set: \", mean_squared_error(pred2_lr, y_test)**0.5)"
   ]
  },
  {
   "cell_type": "markdown",
   "metadata": {},
   "source": [
    "**Random Forest Regression Training**"
   ]
  },
  {
   "cell_type": "code",
   "execution_count": 14,
   "metadata": {},
   "outputs": [
    {
     "name": "stdout",
     "output_type": "stream",
     "text": [
      "RMSE for the training set: 11.343979561507691\n"
     ]
    }
   ],
   "source": [
    "model_rfr = RandomForestRegressor(random_state=12345, n_estimators=5)\n",
    "model_rfr.fit(X_train, y_train)\n",
    "pred1_rfr = model_rfr.predict(X_train)\n",
    "pred2_rfr = model_rfr.predict(X_test) \n",
    "\n",
    "print(\"RMSE for the training set:\", mean_squared_error(pred1_rfr, y_train)**0.5)"
   ]
  },
  {
   "cell_type": "markdown",
   "metadata": {},
   "source": [
    "**LightGBM Training**"
   ]
  },
  {
   "cell_type": "code",
   "execution_count": 15,
   "metadata": {},
   "outputs": [
    {
     "name": "stdout",
     "output_type": "stream",
     "text": [
      "RMSE for the training set: 14.868300422318898\n"
     ]
    }
   ],
   "source": [
    "model_lgb = lgb.LGBMRegressor(learning_rate=0.1, n_estimators=50, random_state=42)\n",
    "model_lgb.fit(X_train, y_train) #no cat_features to specify\n",
    "pred1_lgb = model_lgb.predict(X_train)\n",
    "pred2_lgb = model_lgb.predict(X_test)\n",
    "\n",
    "print(\"RMSE for the training set:\", mean_squared_error(pred1_lgb, y_train)**0.5)"
   ]
  },
  {
   "cell_type": "markdown",
   "metadata": {},
   "source": [
    "**XGBoost Training**"
   ]
  },
  {
   "cell_type": "code",
   "execution_count": 16,
   "metadata": {},
   "outputs": [],
   "source": [
    "#model_xgb = xgb.XGBRegressor(n_estimators=100, max_depth=3)\n",
    "#model_xgb.fit(X_train, y_train)\n",
    "#pred1_xgb = model_xgb.predict(X_train)\n",
    "#pred2_xgb = model_xgb.predict(X_test)\n",
    "\n",
    "#print(\"RMSE for the training set:\", mean_squared_error(pred1_xgb, y_train)**0.5)"
   ]
  },
  {
   "cell_type": "code",
   "execution_count": 17,
   "metadata": {},
   "outputs": [
    {
     "name": "stdout",
     "output_type": "stream",
     "text": [
      "RMSE for the training set: 16.02864960649008\n",
      "{'max_depth': 3}\n"
     ]
    }
   ],
   "source": [
    "model_xgb = xgb.XGBRegressor()\n",
    "param_search = {'max_depth' : [3, 5]}\n",
    "\n",
    "tscv = TimeSeriesSplit(n_splits=5)\n",
    "grid = GridSearchCV(estimator=model_xgb, cv=tscv,\n",
    "                        param_grid=param_search)\n",
    "grid.fit(X_train, y_train)\n",
    "pred1_xgb = grid.predict(X_train)\n",
    "\n",
    "#print best parameter after tuning \n",
    "print(\"RMSE for the training set:\", mean_squared_error(pred1_xgb, y_train)**0.5)\n",
    "print(grid.best_params_) \n"
   ]
  },
  {
   "cell_type": "code",
   "execution_count": 18,
   "metadata": {},
   "outputs": [],
   "source": [
    "#fitting best XGB model\n",
    "model_xgb = xgb.XGBRegressor(max_depth=3)\n",
    "model_xgb.fit(X_train, y_train)\n",
    "pred2_xgb = model_xgb.predict(X_test)"
   ]
  },
  {
   "cell_type": "markdown",
   "metadata": {},
   "source": [
    "### Training Conclusion:\n",
    "\n",
    "1) The model with the best/lowest training RMSE score was random forest regressor at 13 \n",
    "\n",
    "2) The model with the worst/highest training RMSE score was Linear Regression at 29\n",
    "\n",
    "3) All training scores surpassed the sanity check value (53 RMSE)"
   ]
  },
  {
   "cell_type": "markdown",
   "metadata": {},
   "source": [
    "## Testing"
   ]
  },
  {
   "cell_type": "code",
   "execution_count": 19,
   "metadata": {
    "scrolled": true
   },
   "outputs": [
    {
     "data": {
      "text/html": [
       "<div>\n",
       "<style scoped>\n",
       "    .dataframe tbody tr th:only-of-type {\n",
       "        vertical-align: middle;\n",
       "    }\n",
       "\n",
       "    .dataframe tbody tr th {\n",
       "        vertical-align: top;\n",
       "    }\n",
       "\n",
       "    .dataframe thead th {\n",
       "        text-align: right;\n",
       "    }\n",
       "</style>\n",
       "<table border=\"1\" class=\"dataframe\">\n",
       "  <thead>\n",
       "    <tr style=\"text-align: right;\">\n",
       "      <th></th>\n",
       "      <th>model</th>\n",
       "      <th>RMSE</th>\n",
       "    </tr>\n",
       "  </thead>\n",
       "  <tbody>\n",
       "    <tr>\n",
       "      <th>0</th>\n",
       "      <td>Linear Regression</td>\n",
       "      <td>40.540767</td>\n",
       "    </tr>\n",
       "    <tr>\n",
       "      <th>1</th>\n",
       "      <td>Random Forest Regression</td>\n",
       "      <td>47.010053</td>\n",
       "    </tr>\n",
       "    <tr>\n",
       "      <th>2</th>\n",
       "      <td>LightGBM</td>\n",
       "      <td>45.131054</td>\n",
       "    </tr>\n",
       "    <tr>\n",
       "      <th>3</th>\n",
       "      <td>XGBoost</td>\n",
       "      <td>43.854186</td>\n",
       "    </tr>\n",
       "  </tbody>\n",
       "</table>\n",
       "</div>"
      ],
      "text/plain": [
       "                      model       RMSE\n",
       "0         Linear Regression  40.540767\n",
       "1  Random Forest Regression  47.010053\n",
       "2                  LightGBM  45.131054\n",
       "3                   XGBoost  43.854186"
      ]
     },
     "execution_count": 19,
     "metadata": {},
     "output_type": "execute_result"
    }
   ],
   "source": [
    "testing = pd.DataFrame()\n",
    "\n",
    "testing['model'] = ['Linear Regression', 'Random Forest Regression', 'LightGBM', 'XGBoost']\n",
    "\n",
    "testing['RMSE'] = [mean_squared_error(pred2_lr, y_test)**0.5, \n",
    "                   mean_squared_error(pred2_rfr, y_test)**0.5,\n",
    "                  mean_squared_error(pred2_lgb, y_test)**0.5,\n",
    "                  mean_squared_error(pred2_xgb, y_test)**0.5]\n",
    "\n",
    "testing"
   ]
  },
  {
   "cell_type": "markdown",
   "metadata": {},
   "source": [
    "<div class=\"alert alert-info\">\n",
    "  The LR model had the worst training RMSE but the best testing RMSE, which seems a little suspicious to me.\n",
    "</div>"
   ]
  },
  {
   "cell_type": "markdown",
   "metadata": {},
   "source": [
    "<div class=\"alert alert-warning\">\n",
    "<b>Reviewer's comment</b>\n",
    "\n",
    "> The LR model had the worst training RMSE but the best testing RMSE, which seems a little suspicious to me.\n",
    "    \n",
    "Why is that suspicious? Comparing models based on their train set performance doesn't make much sense: what we'd like is for our models to generalize to new data, not memorize the training set. And evaluating a model on the train set tells us nothing about how well it generalizes to new data.\n",
    "\n",
    "</div>"
   ]
  },
  {
   "cell_type": "markdown",
   "metadata": {},
   "source": [
    "<div class=\"alert alert-info\">\n",
    "  Since the train RMSE was not great, I was expecting the test RMSE to also perform badly. So when it turned out to be the best performing one for the test set, I was surprised.\n",
    "</div>"
   ]
  },
  {
   "cell_type": "markdown",
   "metadata": {},
   "source": [
    "<div class=\"alert alert-warning\">\n",
    "<b>Reviewer's comment V2</b>\n",
    "\n",
    "Well, it just means that the other models [overfitted](https://en.wikipedia.org/wiki/Overfitting) more. In any case, the train set performance is a poor indicator of test set performance.\n",
    "\n",
    "</div>"
   ]
  },
  {
   "cell_type": "markdown",
   "metadata": {},
   "source": [
    "<div class=\"alert alert-danger\">\n",
    "<s><b>Reviewer's comment</b>\n",
    "\n",
    "Great, you tried a couple of different models and one of them beats the required RMSE threshold. Could you please add some hyperparameter tuning for at least one model? Remember that for hyperparameter tuning we either need a separate validation set, or we can do cross-validation on the train set (using an appropriate cross-validation scheme for time series like [TimeSeriesSplit](https://scikit-learn.org/stable/modules/cross_validation.html#time-series-split), an object of TimeSeriesSplit class can be passed as the 'cv' parameter to GridSearchCV, cross_val_score, etc)\n",
    "    \n",
    "\n",
    "\n",
    "</div>"
   ]
  },
  {
   "cell_type": "markdown",
   "metadata": {},
   "source": [
    "<div class=\"alert alert-success\">\n",
    "<b>Reviewer's comment V2</b>\n",
    "\n",
    "Very good!\n",
    "    \n",
    "\n",
    "</div>"
   ]
  },
  {
   "cell_type": "markdown",
   "metadata": {},
   "source": [
    "### Testing Conclusion:\n",
    "\n",
    "1) The model with the lowest RMSE score was the Linear Regression model, which is what I recommend the company uses to predict order numbers for the next hour."
   ]
  },
  {
   "cell_type": "markdown",
   "metadata": {},
   "source": [
    "# Review checklist"
   ]
  },
  {
   "cell_type": "markdown",
   "metadata": {},
   "source": [
    "- [x]  Jupyter Notebook is open\n",
    "- [ ]  The code is error-free\n",
    "- [ ]  The cells with the code have been arranged in order of execution\n",
    "- [ ]  The data has been downloaded and prepared\n",
    "- [ ]  The data has been analyzed\n",
    "- [ ]  The model has been trained and hyperparameters have been selected\n",
    "- [ ]  The models have been evaluated. Conclusion has been provided\n",
    "- [ ] *RMSE* for the test set is not more than 48"
   ]
  }
 ],
 "metadata": {
  "ExecuteTimeLog": [
   {
    "duration": 1611,
    "start_time": "2022-04-24T01:16:20.891Z"
   },
   {
    "duration": 163,
    "start_time": "2022-04-24T01:17:08.433Z"
   },
   {
    "duration": 108,
    "start_time": "2022-04-24T01:19:25.925Z"
   },
   {
    "duration": 1510,
    "start_time": "2022-04-24T01:24:09.932Z"
   },
   {
    "duration": 127,
    "start_time": "2022-04-24T01:24:11.444Z"
   },
   {
    "duration": 1479,
    "start_time": "2022-04-24T01:24:24.648Z"
   },
   {
    "duration": 44,
    "start_time": "2022-04-24T01:24:26.129Z"
   },
   {
    "duration": 9,
    "start_time": "2022-04-24T01:28:39.332Z"
   },
   {
    "duration": 1492,
    "start_time": "2022-04-24T01:30:49.638Z"
   },
   {
    "duration": 44,
    "start_time": "2022-04-24T01:30:51.131Z"
   },
   {
    "duration": 5,
    "start_time": "2022-04-24T01:30:51.176Z"
   },
   {
    "duration": 1422,
    "start_time": "2022-04-24T01:39:11.502Z"
   },
   {
    "duration": 108,
    "start_time": "2022-04-24T01:39:12.926Z"
   },
   {
    "duration": 0,
    "start_time": "2022-04-24T01:39:13.035Z"
   },
   {
    "duration": 1434,
    "start_time": "2022-04-24T01:39:29.907Z"
   },
   {
    "duration": 130,
    "start_time": "2022-04-24T01:39:31.343Z"
   },
   {
    "duration": 0,
    "start_time": "2022-04-24T01:39:31.475Z"
   },
   {
    "duration": 1479,
    "start_time": "2022-04-24T01:39:47.012Z"
   },
   {
    "duration": 46,
    "start_time": "2022-04-24T01:39:48.492Z"
   },
   {
    "duration": 9,
    "start_time": "2022-04-24T01:39:48.539Z"
   },
   {
    "duration": 1477,
    "start_time": "2022-04-24T01:44:32.447Z"
   },
   {
    "duration": 684,
    "start_time": "2022-04-24T01:44:33.926Z"
   },
   {
    "duration": 181,
    "start_time": "2022-04-24T01:48:24.114Z"
   },
   {
    "duration": 111,
    "start_time": "2022-04-24T01:49:37.166Z"
   },
   {
    "duration": 147,
    "start_time": "2022-04-24T01:56:31.957Z"
   },
   {
    "duration": 157,
    "start_time": "2022-04-24T01:56:52.800Z"
   },
   {
    "duration": 1608,
    "start_time": "2022-04-24T01:57:09.284Z"
   },
   {
    "duration": 667,
    "start_time": "2022-04-24T01:57:10.894Z"
   },
   {
    "duration": 191,
    "start_time": "2022-04-24T01:57:11.563Z"
   },
   {
    "duration": 191,
    "start_time": "2022-04-24T01:57:11.756Z"
   },
   {
    "duration": 182,
    "start_time": "2022-04-24T01:57:40.148Z"
   },
   {
    "duration": 189,
    "start_time": "2022-04-24T01:58:29.833Z"
   },
   {
    "duration": 125,
    "start_time": "2022-04-24T01:59:19.449Z"
   },
   {
    "duration": 1448,
    "start_time": "2022-04-24T01:59:30.580Z"
   },
   {
    "duration": 703,
    "start_time": "2022-04-24T01:59:32.030Z"
   },
   {
    "duration": 131,
    "start_time": "2022-04-24T01:59:32.735Z"
   },
   {
    "duration": 181,
    "start_time": "2022-04-24T01:59:32.867Z"
   },
   {
    "duration": 1595,
    "start_time": "2022-04-24T02:00:38.365Z"
   },
   {
    "duration": 693,
    "start_time": "2022-04-24T02:00:39.962Z"
   },
   {
    "duration": 193,
    "start_time": "2022-04-24T02:00:40.656Z"
   },
   {
    "duration": 1424,
    "start_time": "2022-04-24T02:01:41.279Z"
   },
   {
    "duration": 708,
    "start_time": "2022-04-24T02:01:42.705Z"
   },
   {
    "duration": 206,
    "start_time": "2022-04-24T02:01:43.414Z"
   },
   {
    "duration": 1424,
    "start_time": "2022-04-24T02:01:55.482Z"
   },
   {
    "duration": 666,
    "start_time": "2022-04-24T02:01:56.907Z"
   },
   {
    "duration": 190,
    "start_time": "2022-04-24T02:01:57.574Z"
   },
   {
    "duration": 1530,
    "start_time": "2022-04-24T03:00:25.011Z"
   },
   {
    "duration": 689,
    "start_time": "2022-04-24T03:00:26.543Z"
   },
   {
    "duration": 174,
    "start_time": "2022-04-24T03:00:27.234Z"
   },
   {
    "duration": 1462,
    "start_time": "2022-04-24T03:06:25.260Z"
   },
   {
    "duration": 672,
    "start_time": "2022-04-24T03:06:26.723Z"
   },
   {
    "duration": 177,
    "start_time": "2022-04-24T03:06:27.397Z"
   },
   {
    "duration": 185,
    "start_time": "2022-04-24T03:06:27.576Z"
   },
   {
    "duration": 1490,
    "start_time": "2022-04-24T03:07:05.526Z"
   },
   {
    "duration": 686,
    "start_time": "2022-04-24T03:07:07.018Z"
   },
   {
    "duration": 180,
    "start_time": "2022-04-24T03:07:07.705Z"
   },
   {
    "duration": 183,
    "start_time": "2022-04-24T03:07:07.886Z"
   },
   {
    "duration": 1441,
    "start_time": "2022-04-24T03:07:39.790Z"
   },
   {
    "duration": 683,
    "start_time": "2022-04-24T03:07:41.232Z"
   },
   {
    "duration": 179,
    "start_time": "2022-04-24T03:07:41.917Z"
   },
   {
    "duration": 249,
    "start_time": "2022-04-24T03:07:42.098Z"
   },
   {
    "duration": 1457,
    "start_time": "2022-04-24T03:08:01.970Z"
   },
   {
    "duration": 684,
    "start_time": "2022-04-24T03:08:03.429Z"
   },
   {
    "duration": 189,
    "start_time": "2022-04-24T03:08:04.115Z"
   },
   {
    "duration": 191,
    "start_time": "2022-04-24T03:08:04.305Z"
   },
   {
    "duration": 1420,
    "start_time": "2022-04-24T03:09:07.705Z"
   },
   {
    "duration": 679,
    "start_time": "2022-04-24T03:09:09.127Z"
   },
   {
    "duration": 181,
    "start_time": "2022-04-24T03:09:09.808Z"
   },
   {
    "duration": 184,
    "start_time": "2022-04-24T03:09:09.991Z"
   },
   {
    "duration": 1468,
    "start_time": "2022-04-24T03:09:22.257Z"
   },
   {
    "duration": 676,
    "start_time": "2022-04-24T03:09:23.727Z"
   },
   {
    "duration": 178,
    "start_time": "2022-04-24T03:09:24.405Z"
   },
   {
    "duration": 175,
    "start_time": "2022-04-24T03:09:24.584Z"
   },
   {
    "duration": 1428,
    "start_time": "2022-04-24T03:15:52.091Z"
   },
   {
    "duration": 686,
    "start_time": "2022-04-24T03:15:53.522Z"
   },
   {
    "duration": 181,
    "start_time": "2022-04-24T03:15:54.209Z"
   },
   {
    "duration": 209,
    "start_time": "2022-04-24T03:15:54.391Z"
   },
   {
    "duration": 1556,
    "start_time": "2022-04-24T03:17:25.334Z"
   },
   {
    "duration": 681,
    "start_time": "2022-04-24T03:17:26.892Z"
   },
   {
    "duration": 180,
    "start_time": "2022-04-24T03:17:27.574Z"
   },
   {
    "duration": 201,
    "start_time": "2022-04-24T03:17:27.755Z"
   },
   {
    "duration": 1497,
    "start_time": "2022-04-24T03:17:50.738Z"
   },
   {
    "duration": 685,
    "start_time": "2022-04-24T03:17:52.237Z"
   },
   {
    "duration": 182,
    "start_time": "2022-04-24T03:17:52.923Z"
   },
   {
    "duration": 209,
    "start_time": "2022-04-24T03:17:53.107Z"
   },
   {
    "duration": 1476,
    "start_time": "2022-04-24T03:21:05.480Z"
   },
   {
    "duration": 700,
    "start_time": "2022-04-24T03:21:06.958Z"
   },
   {
    "duration": 187,
    "start_time": "2022-04-24T03:21:07.660Z"
   },
   {
    "duration": 177,
    "start_time": "2022-04-24T03:21:07.849Z"
   },
   {
    "duration": 1491,
    "start_time": "2022-04-24T03:21:36.426Z"
   },
   {
    "duration": 682,
    "start_time": "2022-04-24T03:21:37.919Z"
   },
   {
    "duration": 183,
    "start_time": "2022-04-24T03:21:38.603Z"
   },
   {
    "duration": 168,
    "start_time": "2022-04-24T03:21:38.788Z"
   },
   {
    "duration": 1476,
    "start_time": "2022-04-24T03:23:46.551Z"
   },
   {
    "duration": 685,
    "start_time": "2022-04-24T03:23:48.028Z"
   },
   {
    "duration": 181,
    "start_time": "2022-04-24T03:23:48.714Z"
   },
   {
    "duration": 174,
    "start_time": "2022-04-24T03:23:48.897Z"
   },
   {
    "duration": 1924,
    "start_time": "2022-04-24T16:19:33.336Z"
   },
   {
    "duration": 768,
    "start_time": "2022-04-24T16:19:35.262Z"
   },
   {
    "duration": 218,
    "start_time": "2022-04-24T16:19:36.033Z"
   },
   {
    "duration": 131,
    "start_time": "2022-04-24T16:19:36.252Z"
   },
   {
    "duration": 1683,
    "start_time": "2022-04-24T16:19:50.861Z"
   },
   {
    "duration": 827,
    "start_time": "2022-04-24T16:19:52.546Z"
   },
   {
    "duration": 225,
    "start_time": "2022-04-24T16:19:53.374Z"
   },
   {
    "duration": 209,
    "start_time": "2022-04-24T16:19:53.601Z"
   },
   {
    "duration": 1699,
    "start_time": "2022-04-24T16:21:58.330Z"
   },
   {
    "duration": 783,
    "start_time": "2022-04-24T16:22:00.031Z"
   },
   {
    "duration": 218,
    "start_time": "2022-04-24T16:22:00.816Z"
   },
   {
    "duration": 197,
    "start_time": "2022-04-24T16:22:01.036Z"
   },
   {
    "duration": 1723,
    "start_time": "2022-04-24T16:28:14.305Z"
   },
   {
    "duration": 803,
    "start_time": "2022-04-24T16:28:16.030Z"
   },
   {
    "duration": 220,
    "start_time": "2022-04-24T16:28:16.835Z"
   },
   {
    "duration": 258,
    "start_time": "2022-04-24T16:28:17.056Z"
   },
   {
    "duration": 1706,
    "start_time": "2022-04-24T17:38:23.379Z"
   },
   {
    "duration": 803,
    "start_time": "2022-04-24T17:38:25.087Z"
   },
   {
    "duration": 232,
    "start_time": "2022-04-24T17:38:25.891Z"
   },
   {
    "duration": 340,
    "start_time": "2022-04-24T17:38:26.125Z"
   },
   {
    "duration": 1753,
    "start_time": "2022-04-24T17:43:54.042Z"
   },
   {
    "duration": 804,
    "start_time": "2022-04-24T17:43:55.797Z"
   },
   {
    "duration": 237,
    "start_time": "2022-04-24T17:43:56.602Z"
   },
   {
    "duration": 272,
    "start_time": "2022-04-24T17:43:56.841Z"
   },
   {
    "duration": 1760,
    "start_time": "2022-04-24T17:47:31.408Z"
   },
   {
    "duration": 801,
    "start_time": "2022-04-24T17:47:33.170Z"
   },
   {
    "duration": 226,
    "start_time": "2022-04-24T17:47:33.973Z"
   },
   {
    "duration": 258,
    "start_time": "2022-04-24T17:47:34.201Z"
   },
   {
    "duration": 134,
    "start_time": "2022-04-24T17:53:41.904Z"
   },
   {
    "duration": 1749,
    "start_time": "2022-04-24T17:53:57.021Z"
   },
   {
    "duration": 814,
    "start_time": "2022-04-24T17:53:58.772Z"
   },
   {
    "duration": 223,
    "start_time": "2022-04-24T17:53:59.587Z"
   },
   {
    "duration": 263,
    "start_time": "2022-04-24T17:53:59.812Z"
   },
   {
    "duration": 13,
    "start_time": "2022-04-24T17:54:00.077Z"
   },
   {
    "duration": 1730,
    "start_time": "2022-04-24T17:57:32.154Z"
   },
   {
    "duration": 896,
    "start_time": "2022-04-24T17:57:33.887Z"
   },
   {
    "duration": 228,
    "start_time": "2022-04-24T17:57:34.785Z"
   },
   {
    "duration": 273,
    "start_time": "2022-04-24T17:57:35.015Z"
   },
   {
    "duration": 13,
    "start_time": "2022-04-24T17:57:35.291Z"
   },
   {
    "duration": 8,
    "start_time": "2022-04-24T17:57:35.306Z"
   },
   {
    "duration": 1578,
    "start_time": "2022-04-24T18:26:22.948Z"
   },
   {
    "duration": 800,
    "start_time": "2022-04-24T18:26:24.528Z"
   },
   {
    "duration": 218,
    "start_time": "2022-04-24T18:26:25.332Z"
   },
   {
    "duration": 262,
    "start_time": "2022-04-24T18:26:25.552Z"
   },
   {
    "duration": 21,
    "start_time": "2022-04-24T18:26:25.817Z"
   },
   {
    "duration": 6,
    "start_time": "2022-04-24T18:26:25.839Z"
   },
   {
    "duration": 12,
    "start_time": "2022-04-24T18:26:25.847Z"
   },
   {
    "duration": 1563,
    "start_time": "2022-04-24T18:27:11.977Z"
   },
   {
    "duration": 779,
    "start_time": "2022-04-24T18:27:13.542Z"
   },
   {
    "duration": 232,
    "start_time": "2022-04-24T18:27:14.323Z"
   },
   {
    "duration": 266,
    "start_time": "2022-04-24T18:27:14.557Z"
   },
   {
    "duration": 16,
    "start_time": "2022-04-24T18:27:14.824Z"
   },
   {
    "duration": 7,
    "start_time": "2022-04-24T18:27:14.841Z"
   },
   {
    "duration": 7,
    "start_time": "2022-04-24T18:27:14.849Z"
   },
   {
    "duration": 7,
    "start_time": "2022-04-24T18:27:37.993Z"
   },
   {
    "duration": 8,
    "start_time": "2022-04-24T18:29:04.204Z"
   },
   {
    "duration": 157,
    "start_time": "2022-04-24T18:29:46.166Z"
   },
   {
    "duration": 8,
    "start_time": "2022-04-24T18:35:19.505Z"
   },
   {
    "duration": 1535,
    "start_time": "2022-04-24T18:38:08.171Z"
   },
   {
    "duration": 777,
    "start_time": "2022-04-24T18:38:09.708Z"
   },
   {
    "duration": 7,
    "start_time": "2022-04-24T18:38:10.487Z"
   },
   {
    "duration": 20,
    "start_time": "2022-04-24T18:38:10.496Z"
   },
   {
    "duration": 210,
    "start_time": "2022-04-24T18:38:10.518Z"
   },
   {
    "duration": 254,
    "start_time": "2022-04-24T18:38:10.733Z"
   },
   {
    "duration": 13,
    "start_time": "2022-04-24T18:38:10.989Z"
   },
   {
    "duration": 15,
    "start_time": "2022-04-24T18:38:11.003Z"
   },
   {
    "duration": 21,
    "start_time": "2022-04-24T18:38:11.020Z"
   },
   {
    "duration": 1622,
    "start_time": "2022-04-24T18:39:09.816Z"
   },
   {
    "duration": 775,
    "start_time": "2022-04-24T18:39:11.440Z"
   },
   {
    "duration": 6,
    "start_time": "2022-04-24T18:39:12.217Z"
   },
   {
    "duration": 6,
    "start_time": "2022-04-24T18:39:12.233Z"
   },
   {
    "duration": 229,
    "start_time": "2022-04-24T18:39:12.241Z"
   },
   {
    "duration": 265,
    "start_time": "2022-04-24T18:39:12.472Z"
   },
   {
    "duration": 11,
    "start_time": "2022-04-24T18:39:12.739Z"
   },
   {
    "duration": 7,
    "start_time": "2022-04-24T18:39:12.752Z"
   },
   {
    "duration": 9,
    "start_time": "2022-04-24T18:39:12.760Z"
   },
   {
    "duration": 6,
    "start_time": "2022-04-24T18:39:26.728Z"
   },
   {
    "duration": 6,
    "start_time": "2022-04-24T18:39:48.753Z"
   },
   {
    "duration": 1626,
    "start_time": "2022-04-24T18:41:01.089Z"
   },
   {
    "duration": 751,
    "start_time": "2022-04-24T18:41:02.717Z"
   },
   {
    "duration": 7,
    "start_time": "2022-04-24T18:41:03.469Z"
   },
   {
    "duration": 8,
    "start_time": "2022-04-24T18:41:03.477Z"
   },
   {
    "duration": 223,
    "start_time": "2022-04-24T18:41:03.488Z"
   },
   {
    "duration": 260,
    "start_time": "2022-04-24T18:41:03.713Z"
   },
   {
    "duration": 12,
    "start_time": "2022-04-24T18:41:03.975Z"
   },
   {
    "duration": 5,
    "start_time": "2022-04-24T18:41:03.989Z"
   },
   {
    "duration": 15,
    "start_time": "2022-04-24T18:41:03.995Z"
   },
   {
    "duration": 26,
    "start_time": "2022-04-24T18:41:04.012Z"
   },
   {
    "duration": 1588,
    "start_time": "2022-04-24T18:42:33.468Z"
   },
   {
    "duration": 766,
    "start_time": "2022-04-24T18:42:35.061Z"
   },
   {
    "duration": 7,
    "start_time": "2022-04-24T18:42:35.828Z"
   },
   {
    "duration": 9,
    "start_time": "2022-04-24T18:42:35.837Z"
   },
   {
    "duration": 227,
    "start_time": "2022-04-24T18:42:35.848Z"
   },
   {
    "duration": 258,
    "start_time": "2022-04-24T18:42:36.077Z"
   },
   {
    "duration": 13,
    "start_time": "2022-04-24T18:42:36.336Z"
   },
   {
    "duration": 10,
    "start_time": "2022-04-24T18:42:36.351Z"
   },
   {
    "duration": 7,
    "start_time": "2022-04-24T18:42:36.363Z"
   },
   {
    "duration": 9,
    "start_time": "2022-04-24T18:42:36.372Z"
   },
   {
    "duration": 1567,
    "start_time": "2022-04-24T18:43:36.279Z"
   },
   {
    "duration": 737,
    "start_time": "2022-04-24T18:43:37.849Z"
   },
   {
    "duration": 5,
    "start_time": "2022-04-24T18:43:38.588Z"
   },
   {
    "duration": 224,
    "start_time": "2022-04-24T18:43:38.595Z"
   },
   {
    "duration": 260,
    "start_time": "2022-04-24T18:43:38.822Z"
   },
   {
    "duration": 12,
    "start_time": "2022-04-24T18:43:39.083Z"
   },
   {
    "duration": 9,
    "start_time": "2022-04-24T18:43:39.097Z"
   },
   {
    "duration": 26,
    "start_time": "2022-04-24T18:43:39.108Z"
   },
   {
    "duration": 7,
    "start_time": "2022-04-24T18:43:39.135Z"
   },
   {
    "duration": 2240,
    "start_time": "2022-04-24T22:14:49.552Z"
   },
   {
    "duration": 1020,
    "start_time": "2022-04-24T22:14:51.796Z"
   },
   {
    "duration": 8,
    "start_time": "2022-04-24T22:14:52.818Z"
   },
   {
    "duration": 267,
    "start_time": "2022-04-24T22:14:52.828Z"
   },
   {
    "duration": 391,
    "start_time": "2022-04-24T22:14:53.097Z"
   },
   {
    "duration": 18,
    "start_time": "2022-04-24T22:14:53.491Z"
   },
   {
    "duration": 21,
    "start_time": "2022-04-24T22:14:53.510Z"
   },
   {
    "duration": 54,
    "start_time": "2022-04-24T22:14:53.534Z"
   },
   {
    "duration": 11,
    "start_time": "2022-04-24T22:14:53.590Z"
   },
   {
    "duration": 2179,
    "start_time": "2022-04-24T22:16:04.564Z"
   },
   {
    "duration": 1039,
    "start_time": "2022-04-24T22:16:06.747Z"
   },
   {
    "duration": 6,
    "start_time": "2022-04-24T22:16:07.788Z"
   },
   {
    "duration": 240,
    "start_time": "2022-04-24T22:16:07.796Z"
   },
   {
    "duration": 303,
    "start_time": "2022-04-24T22:16:08.039Z"
   },
   {
    "duration": 15,
    "start_time": "2022-04-24T22:16:08.344Z"
   },
   {
    "duration": 27,
    "start_time": "2022-04-24T22:16:08.361Z"
   },
   {
    "duration": 8,
    "start_time": "2022-04-24T22:16:08.390Z"
   },
   {
    "duration": 10,
    "start_time": "2022-04-24T22:16:08.400Z"
   },
   {
    "duration": 2113,
    "start_time": "2022-04-24T22:18:32.844Z"
   },
   {
    "duration": 859,
    "start_time": "2022-04-24T22:18:34.959Z"
   },
   {
    "duration": 8,
    "start_time": "2022-04-24T22:18:35.823Z"
   },
   {
    "duration": 252,
    "start_time": "2022-04-24T22:18:35.834Z"
   },
   {
    "duration": 9,
    "start_time": "2022-04-24T22:18:36.089Z"
   },
   {
    "duration": 6,
    "start_time": "2022-04-24T22:18:36.100Z"
   },
   {
    "duration": 24,
    "start_time": "2022-04-24T22:18:36.107Z"
   },
   {
    "duration": 2114,
    "start_time": "2022-04-24T22:19:49.286Z"
   },
   {
    "duration": 970,
    "start_time": "2022-04-24T22:19:51.402Z"
   },
   {
    "duration": 6,
    "start_time": "2022-04-24T22:19:52.375Z"
   },
   {
    "duration": 224,
    "start_time": "2022-04-24T22:19:52.383Z"
   },
   {
    "duration": 19,
    "start_time": "2022-04-24T22:19:52.609Z"
   },
   {
    "duration": 7,
    "start_time": "2022-04-24T22:19:52.630Z"
   },
   {
    "duration": 2102,
    "start_time": "2022-04-24T22:20:58.969Z"
   },
   {
    "duration": 981,
    "start_time": "2022-04-24T22:21:01.073Z"
   },
   {
    "duration": 7,
    "start_time": "2022-04-24T22:21:02.055Z"
   },
   {
    "duration": 255,
    "start_time": "2022-04-24T22:21:02.064Z"
   },
   {
    "duration": 17,
    "start_time": "2022-04-24T22:21:02.321Z"
   },
   {
    "duration": 62,
    "start_time": "2022-04-24T22:21:02.340Z"
   },
   {
    "duration": 1798,
    "start_time": "2022-04-24T22:21:24.274Z"
   },
   {
    "duration": 1063,
    "start_time": "2022-04-24T22:21:26.075Z"
   },
   {
    "duration": 9,
    "start_time": "2022-04-24T22:21:27.141Z"
   },
   {
    "duration": 319,
    "start_time": "2022-04-24T22:21:27.152Z"
   },
   {
    "duration": 12,
    "start_time": "2022-04-24T22:21:27.474Z"
   },
   {
    "duration": 5,
    "start_time": "2022-04-24T22:21:27.488Z"
   },
   {
    "duration": 1917,
    "start_time": "2022-04-24T22:21:39.346Z"
   },
   {
    "duration": 1156,
    "start_time": "2022-04-24T22:21:41.266Z"
   },
   {
    "duration": 8,
    "start_time": "2022-04-24T22:21:42.424Z"
   },
   {
    "duration": 271,
    "start_time": "2022-04-24T22:21:42.435Z"
   },
   {
    "duration": 10,
    "start_time": "2022-04-24T22:21:42.708Z"
   },
   {
    "duration": 6,
    "start_time": "2022-04-24T22:21:42.724Z"
   },
   {
    "duration": 1746,
    "start_time": "2022-04-24T22:27:13.362Z"
   },
   {
    "duration": 822,
    "start_time": "2022-04-24T22:27:15.110Z"
   },
   {
    "duration": 6,
    "start_time": "2022-04-24T22:27:15.934Z"
   },
   {
    "duration": 247,
    "start_time": "2022-04-24T22:27:15.942Z"
   },
   {
    "duration": 17,
    "start_time": "2022-04-24T22:27:16.191Z"
   },
   {
    "duration": 25,
    "start_time": "2022-04-24T22:27:16.210Z"
   },
   {
    "duration": 1971,
    "start_time": "2022-04-24T22:27:36.567Z"
   },
   {
    "duration": 1010,
    "start_time": "2022-04-24T22:27:38.542Z"
   },
   {
    "duration": 18,
    "start_time": "2022-04-24T22:27:39.556Z"
   },
   {
    "duration": 237,
    "start_time": "2022-04-24T22:27:39.579Z"
   },
   {
    "duration": 21,
    "start_time": "2022-04-24T22:27:39.819Z"
   },
   {
    "duration": 50,
    "start_time": "2022-04-24T22:27:39.842Z"
   },
   {
    "duration": 170,
    "start_time": "2022-04-24T22:31:22.118Z"
   },
   {
    "duration": 212,
    "start_time": "2022-04-24T22:31:31.350Z"
   },
   {
    "duration": 206,
    "start_time": "2022-04-24T22:32:29.581Z"
   },
   {
    "duration": 2417,
    "start_time": "2022-04-25T01:05:27.053Z"
   },
   {
    "duration": 1089,
    "start_time": "2022-04-25T01:05:29.473Z"
   },
   {
    "duration": 8,
    "start_time": "2022-04-25T01:05:30.564Z"
   },
   {
    "duration": 344,
    "start_time": "2022-04-25T01:05:30.574Z"
   },
   {
    "duration": 13,
    "start_time": "2022-04-25T01:05:30.924Z"
   },
   {
    "duration": 14,
    "start_time": "2022-04-25T01:05:30.939Z"
   },
   {
    "duration": 1820,
    "start_time": "2022-04-25T01:05:30.956Z"
   },
   {
    "duration": 2071,
    "start_time": "2022-04-25T01:07:04.830Z"
   },
   {
    "duration": 1080,
    "start_time": "2022-04-25T01:07:06.904Z"
   },
   {
    "duration": 8,
    "start_time": "2022-04-25T01:07:07.987Z"
   },
   {
    "duration": 349,
    "start_time": "2022-04-25T01:07:07.999Z"
   },
   {
    "duration": 14,
    "start_time": "2022-04-25T01:07:08.351Z"
   },
   {
    "duration": 10,
    "start_time": "2022-04-25T01:07:08.368Z"
   },
   {
    "duration": 77,
    "start_time": "2022-04-25T01:07:08.380Z"
   },
   {
    "duration": 2382,
    "start_time": "2022-04-25T01:11:19.422Z"
   },
   {
    "duration": 1074,
    "start_time": "2022-04-25T01:11:21.807Z"
   },
   {
    "duration": 8,
    "start_time": "2022-04-25T01:11:22.884Z"
   },
   {
    "duration": 334,
    "start_time": "2022-04-25T01:11:22.896Z"
   },
   {
    "duration": 13,
    "start_time": "2022-04-25T01:11:23.233Z"
   },
   {
    "duration": 21,
    "start_time": "2022-04-25T01:11:23.249Z"
   },
   {
    "duration": 62,
    "start_time": "2022-04-25T01:11:23.272Z"
   },
   {
    "duration": 2087,
    "start_time": "2022-04-25T02:15:18.028Z"
   },
   {
    "duration": 1062,
    "start_time": "2022-04-25T02:15:20.118Z"
   },
   {
    "duration": 8,
    "start_time": "2022-04-25T02:15:21.182Z"
   },
   {
    "duration": 334,
    "start_time": "2022-04-25T02:15:21.193Z"
   },
   {
    "duration": 185,
    "start_time": "2022-04-25T02:15:21.530Z"
   },
   {
    "duration": 0,
    "start_time": "2022-04-25T02:15:21.725Z"
   },
   {
    "duration": 0,
    "start_time": "2022-04-25T02:15:21.727Z"
   },
   {
    "duration": 0,
    "start_time": "2022-04-25T02:15:21.728Z"
   },
   {
    "duration": 2102,
    "start_time": "2022-04-25T02:15:47.080Z"
   },
   {
    "duration": 1061,
    "start_time": "2022-04-25T02:15:49.186Z"
   },
   {
    "duration": 9,
    "start_time": "2022-04-25T02:15:50.249Z"
   },
   {
    "duration": 341,
    "start_time": "2022-04-25T02:15:50.260Z"
   },
   {
    "duration": 1924,
    "start_time": "2022-04-25T02:15:50.605Z"
   },
   {
    "duration": 0,
    "start_time": "2022-04-25T02:15:52.532Z"
   },
   {
    "duration": 0,
    "start_time": "2022-04-25T02:15:52.534Z"
   },
   {
    "duration": 0,
    "start_time": "2022-04-25T02:15:52.536Z"
   },
   {
    "duration": 2099,
    "start_time": "2022-04-25T02:16:09.303Z"
   },
   {
    "duration": 1048,
    "start_time": "2022-04-25T02:16:11.405Z"
   },
   {
    "duration": 9,
    "start_time": "2022-04-25T02:16:12.456Z"
   },
   {
    "duration": 347,
    "start_time": "2022-04-25T02:16:12.468Z"
   },
   {
    "duration": 370,
    "start_time": "2022-04-25T02:16:12.826Z"
   },
   {
    "duration": 27,
    "start_time": "2022-04-25T02:16:13.199Z"
   },
   {
    "duration": 13,
    "start_time": "2022-04-25T02:16:13.229Z"
   },
   {
    "duration": 42,
    "start_time": "2022-04-25T02:16:13.245Z"
   },
   {
    "duration": 2018,
    "start_time": "2022-04-25T02:16:55.472Z"
   },
   {
    "duration": 1085,
    "start_time": "2022-04-25T02:16:57.492Z"
   },
   {
    "duration": 7,
    "start_time": "2022-04-25T02:16:58.579Z"
   },
   {
    "duration": 349,
    "start_time": "2022-04-25T02:16:58.588Z"
   },
   {
    "duration": 397,
    "start_time": "2022-04-25T02:16:58.940Z"
   },
   {
    "duration": 13,
    "start_time": "2022-04-25T02:16:59.339Z"
   },
   {
    "duration": 11,
    "start_time": "2022-04-25T02:16:59.355Z"
   },
   {
    "duration": 72,
    "start_time": "2022-04-25T02:16:59.368Z"
   },
   {
    "duration": 110,
    "start_time": "2022-04-25T02:21:30.272Z"
   },
   {
    "duration": 92,
    "start_time": "2022-04-26T20:32:02.888Z"
   },
   {
    "duration": 2731,
    "start_time": "2022-04-26T20:32:10.306Z"
   },
   {
    "duration": 1314,
    "start_time": "2022-04-26T20:32:13.041Z"
   },
   {
    "duration": 8,
    "start_time": "2022-04-26T20:32:14.361Z"
   },
   {
    "duration": 372,
    "start_time": "2022-04-26T20:32:14.372Z"
   },
   {
    "duration": 1023,
    "start_time": "2022-04-26T20:32:14.748Z"
   },
   {
    "duration": 434,
    "start_time": "2022-04-26T20:32:15.774Z"
   },
   {
    "duration": 25,
    "start_time": "2022-04-26T20:32:16.210Z"
   },
   {
    "duration": 46,
    "start_time": "2022-04-26T20:32:16.241Z"
   },
   {
    "duration": 56,
    "start_time": "2022-04-26T20:32:16.289Z"
   },
   {
    "duration": 2228,
    "start_time": "2022-04-26T20:35:15.467Z"
   },
   {
    "duration": 1190,
    "start_time": "2022-04-26T20:35:17.697Z"
   },
   {
    "duration": 8,
    "start_time": "2022-04-26T20:35:18.889Z"
   },
   {
    "duration": 371,
    "start_time": "2022-04-26T20:35:18.900Z"
   },
   {
    "duration": 1003,
    "start_time": "2022-04-26T20:35:19.273Z"
   },
   {
    "duration": 540,
    "start_time": "2022-04-26T20:35:20.278Z"
   },
   {
    "duration": 17,
    "start_time": "2022-04-26T20:35:20.827Z"
   },
   {
    "duration": 31,
    "start_time": "2022-04-26T20:35:20.847Z"
   },
   {
    "duration": 37,
    "start_time": "2022-04-26T20:35:20.880Z"
   },
   {
    "duration": 2384,
    "start_time": "2022-04-26T20:37:43.919Z"
   },
   {
    "duration": 1269,
    "start_time": "2022-04-26T20:37:46.307Z"
   },
   {
    "duration": 8,
    "start_time": "2022-04-26T20:37:47.579Z"
   },
   {
    "duration": 381,
    "start_time": "2022-04-26T20:37:47.590Z"
   },
   {
    "duration": 1386,
    "start_time": "2022-04-26T20:37:47.974Z"
   },
   {
    "duration": 539,
    "start_time": "2022-04-26T20:37:49.362Z"
   },
   {
    "duration": 34,
    "start_time": "2022-04-26T20:37:49.904Z"
   },
   {
    "duration": 233,
    "start_time": "2022-04-26T20:37:49.943Z"
   },
   {
    "duration": 0,
    "start_time": "2022-04-26T20:37:50.179Z"
   },
   {
    "duration": 2239,
    "start_time": "2022-04-26T20:38:34.096Z"
   },
   {
    "duration": 1196,
    "start_time": "2022-04-26T20:38:36.339Z"
   },
   {
    "duration": 9,
    "start_time": "2022-04-26T20:38:37.540Z"
   },
   {
    "duration": 481,
    "start_time": "2022-04-26T20:38:37.552Z"
   },
   {
    "duration": 996,
    "start_time": "2022-04-26T20:38:38.036Z"
   },
   {
    "duration": 630,
    "start_time": "2022-04-26T20:38:39.034Z"
   },
   {
    "duration": 12,
    "start_time": "2022-04-26T20:38:39.669Z"
   },
   {
    "duration": 17,
    "start_time": "2022-04-26T20:38:39.683Z"
   },
   {
    "duration": 67,
    "start_time": "2022-04-26T20:38:39.702Z"
   },
   {
    "duration": 2283,
    "start_time": "2022-04-26T20:43:46.359Z"
   },
   {
    "duration": 1196,
    "start_time": "2022-04-26T20:43:48.645Z"
   },
   {
    "duration": 13,
    "start_time": "2022-04-26T20:43:49.844Z"
   },
   {
    "duration": 357,
    "start_time": "2022-04-26T20:43:49.860Z"
   },
   {
    "duration": 986,
    "start_time": "2022-04-26T20:43:50.224Z"
   },
   {
    "duration": 4,
    "start_time": "2022-04-26T20:43:51.212Z"
   },
   {
    "duration": 29,
    "start_time": "2022-04-26T20:43:51.231Z"
   },
   {
    "duration": 14,
    "start_time": "2022-04-26T20:43:51.262Z"
   },
   {
    "duration": 54,
    "start_time": "2022-04-26T20:43:51.278Z"
   },
   {
    "duration": 2271,
    "start_time": "2022-04-26T20:44:07.118Z"
   },
   {
    "duration": 1204,
    "start_time": "2022-04-26T20:44:09.392Z"
   },
   {
    "duration": 7,
    "start_time": "2022-04-26T20:44:10.598Z"
   },
   {
    "duration": 368,
    "start_time": "2022-04-26T20:44:10.607Z"
   },
   {
    "duration": 1007,
    "start_time": "2022-04-26T20:44:10.978Z"
   },
   {
    "duration": 3,
    "start_time": "2022-04-26T20:44:11.987Z"
   },
   {
    "duration": 15,
    "start_time": "2022-04-26T20:44:11.992Z"
   },
   {
    "duration": 12,
    "start_time": "2022-04-26T20:44:12.033Z"
   },
   {
    "duration": 55,
    "start_time": "2022-04-26T20:44:12.051Z"
   },
   {
    "duration": 2295,
    "start_time": "2022-04-26T20:44:26.762Z"
   },
   {
    "duration": 1290,
    "start_time": "2022-04-26T20:44:29.063Z"
   },
   {
    "duration": 12,
    "start_time": "2022-04-26T20:44:30.356Z"
   },
   {
    "duration": 472,
    "start_time": "2022-04-26T20:44:30.371Z"
   },
   {
    "duration": 1022,
    "start_time": "2022-04-26T20:44:30.846Z"
   },
   {
    "duration": 3,
    "start_time": "2022-04-26T20:44:31.870Z"
   },
   {
    "duration": 26,
    "start_time": "2022-04-26T20:44:31.876Z"
   },
   {
    "duration": 17,
    "start_time": "2022-04-26T20:44:31.904Z"
   },
   {
    "duration": 80,
    "start_time": "2022-04-26T20:44:31.932Z"
   },
   {
    "duration": 2339,
    "start_time": "2022-04-26T21:09:35.552Z"
   },
   {
    "duration": 1206,
    "start_time": "2022-04-26T21:09:37.894Z"
   },
   {
    "duration": 7,
    "start_time": "2022-04-26T21:09:39.102Z"
   },
   {
    "duration": 395,
    "start_time": "2022-04-26T21:09:39.111Z"
   },
   {
    "duration": 1015,
    "start_time": "2022-04-26T21:09:39.509Z"
   },
   {
    "duration": 9,
    "start_time": "2022-04-26T21:09:40.529Z"
   },
   {
    "duration": 32,
    "start_time": "2022-04-26T21:09:40.544Z"
   },
   {
    "duration": 20,
    "start_time": "2022-04-26T21:09:40.578Z"
   },
   {
    "duration": 71,
    "start_time": "2022-04-26T21:09:40.601Z"
   },
   {
    "duration": 16,
    "start_time": "2022-04-26T21:09:40.675Z"
   },
   {
    "duration": 2253,
    "start_time": "2022-04-26T21:20:06.347Z"
   },
   {
    "duration": 1293,
    "start_time": "2022-04-26T21:20:08.603Z"
   },
   {
    "duration": 8,
    "start_time": "2022-04-26T21:20:09.899Z"
   },
   {
    "duration": 351,
    "start_time": "2022-04-26T21:20:09.926Z"
   },
   {
    "duration": 973,
    "start_time": "2022-04-26T21:20:10.280Z"
   },
   {
    "duration": 3,
    "start_time": "2022-04-26T21:20:11.256Z"
   },
   {
    "duration": 15,
    "start_time": "2022-04-26T21:20:11.261Z"
   },
   {
    "duration": 10,
    "start_time": "2022-04-26T21:20:11.278Z"
   },
   {
    "duration": 88,
    "start_time": "2022-04-26T21:20:11.290Z"
   },
   {
    "duration": 11,
    "start_time": "2022-04-26T21:20:11.381Z"
   },
   {
    "duration": 232,
    "start_time": "2022-04-26T21:20:11.395Z"
   },
   {
    "duration": 101,
    "start_time": "2022-04-26T21:20:11.645Z"
   },
   {
    "duration": 2760,
    "start_time": "2022-04-26T21:35:34.073Z"
   },
   {
    "duration": 1637,
    "start_time": "2022-04-26T21:35:36.839Z"
   },
   {
    "duration": 8,
    "start_time": "2022-04-26T21:35:38.478Z"
   },
   {
    "duration": 371,
    "start_time": "2022-04-26T21:35:38.489Z"
   },
   {
    "duration": 1099,
    "start_time": "2022-04-26T21:35:38.862Z"
   },
   {
    "duration": 4,
    "start_time": "2022-04-26T21:35:39.963Z"
   },
   {
    "duration": 27,
    "start_time": "2022-04-26T21:35:39.970Z"
   },
   {
    "duration": 25,
    "start_time": "2022-04-26T21:35:39.999Z"
   },
   {
    "duration": 57,
    "start_time": "2022-04-26T21:35:40.033Z"
   },
   {
    "duration": 33,
    "start_time": "2022-04-26T21:35:40.095Z"
   },
   {
    "duration": 11,
    "start_time": "2022-04-26T21:35:40.134Z"
   },
   {
    "duration": 96,
    "start_time": "2022-04-26T21:35:40.147Z"
   },
   {
    "duration": 286,
    "start_time": "2022-04-26T21:35:40.246Z"
   },
   {
    "duration": 0,
    "start_time": "2022-04-26T21:35:40.536Z"
   },
   {
    "duration": 0,
    "start_time": "2022-04-26T21:35:40.539Z"
   },
   {
    "duration": 0,
    "start_time": "2022-04-26T21:35:40.541Z"
   },
   {
    "duration": 2202,
    "start_time": "2022-04-26T21:36:08.092Z"
   },
   {
    "duration": 1189,
    "start_time": "2022-04-26T21:36:10.297Z"
   },
   {
    "duration": 9,
    "start_time": "2022-04-26T21:36:11.489Z"
   },
   {
    "duration": 492,
    "start_time": "2022-04-26T21:36:11.502Z"
   },
   {
    "duration": 965,
    "start_time": "2022-04-26T21:36:11.997Z"
   },
   {
    "duration": 3,
    "start_time": "2022-04-26T21:36:12.965Z"
   },
   {
    "duration": 16,
    "start_time": "2022-04-26T21:36:12.970Z"
   },
   {
    "duration": 9,
    "start_time": "2022-04-26T21:36:12.988Z"
   },
   {
    "duration": 89,
    "start_time": "2022-04-26T21:36:12.999Z"
   },
   {
    "duration": 12,
    "start_time": "2022-04-26T21:36:13.092Z"
   },
   {
    "duration": 35,
    "start_time": "2022-04-26T21:36:13.106Z"
   },
   {
    "duration": 111,
    "start_time": "2022-04-26T21:36:13.144Z"
   },
   {
    "duration": 306,
    "start_time": "2022-04-26T21:36:13.258Z"
   },
   {
    "duration": 34989,
    "start_time": "2022-04-26T21:36:13.566Z"
   },
   {
    "duration": 40620,
    "start_time": "2022-04-26T21:36:48.559Z"
   },
   {
    "duration": 28,
    "start_time": "2022-04-26T21:37:29.226Z"
   },
   {
    "duration": 2357,
    "start_time": "2022-04-26T21:43:51.353Z"
   },
   {
    "duration": 1163,
    "start_time": "2022-04-26T21:43:53.713Z"
   },
   {
    "duration": 7,
    "start_time": "2022-04-26T21:43:54.879Z"
   },
   {
    "duration": 375,
    "start_time": "2022-04-26T21:43:54.888Z"
   },
   {
    "duration": 965,
    "start_time": "2022-04-26T21:43:55.266Z"
   },
   {
    "duration": 3,
    "start_time": "2022-04-26T21:43:56.234Z"
   },
   {
    "duration": 35,
    "start_time": "2022-04-26T21:43:56.240Z"
   },
   {
    "duration": 17,
    "start_time": "2022-04-26T21:43:56.277Z"
   },
   {
    "duration": 117,
    "start_time": "2022-04-26T21:43:56.296Z"
   },
   {
    "duration": 14,
    "start_time": "2022-04-26T21:43:56.415Z"
   },
   {
    "duration": 30,
    "start_time": "2022-04-26T21:43:56.433Z"
   },
   {
    "duration": 73,
    "start_time": "2022-04-26T21:43:56.466Z"
   },
   {
    "duration": 226,
    "start_time": "2022-04-26T21:43:56.545Z"
   },
   {
    "duration": 26774,
    "start_time": "2022-04-26T21:43:56.775Z"
   },
   {
    "duration": 42776,
    "start_time": "2022-04-26T21:44:23.552Z"
   },
   {
    "duration": 27,
    "start_time": "2022-04-26T21:45:06.334Z"
   },
   {
    "duration": 2635,
    "start_time": "2022-04-27T16:29:17.721Z"
   },
   {
    "duration": 1023,
    "start_time": "2022-04-27T16:29:20.359Z"
   },
   {
    "duration": 7,
    "start_time": "2022-04-27T16:29:21.385Z"
   },
   {
    "duration": 331,
    "start_time": "2022-04-27T16:29:21.394Z"
   },
   {
    "duration": 857,
    "start_time": "2022-04-27T16:29:21.728Z"
   },
   {
    "duration": 194,
    "start_time": "2022-04-27T16:29:22.587Z"
   },
   {
    "duration": 0,
    "start_time": "2022-04-27T16:29:22.784Z"
   },
   {
    "duration": 0,
    "start_time": "2022-04-27T16:29:22.785Z"
   },
   {
    "duration": 0,
    "start_time": "2022-04-27T16:29:22.787Z"
   },
   {
    "duration": 0,
    "start_time": "2022-04-27T16:29:22.788Z"
   },
   {
    "duration": 0,
    "start_time": "2022-04-27T16:29:22.790Z"
   },
   {
    "duration": 0,
    "start_time": "2022-04-27T16:29:22.791Z"
   },
   {
    "duration": 0,
    "start_time": "2022-04-27T16:29:22.792Z"
   },
   {
    "duration": 0,
    "start_time": "2022-04-27T16:29:22.794Z"
   },
   {
    "duration": 0,
    "start_time": "2022-04-27T16:29:22.795Z"
   },
   {
    "duration": 0,
    "start_time": "2022-04-27T16:29:22.797Z"
   },
   {
    "duration": 0,
    "start_time": "2022-04-27T16:29:22.799Z"
   },
   {
    "duration": 2033,
    "start_time": "2022-04-27T16:30:48.294Z"
   },
   {
    "duration": 996,
    "start_time": "2022-04-27T16:30:50.330Z"
   },
   {
    "duration": 8,
    "start_time": "2022-04-27T16:30:51.328Z"
   },
   {
    "duration": 316,
    "start_time": "2022-04-27T16:30:51.351Z"
   },
   {
    "duration": 836,
    "start_time": "2022-04-27T16:30:51.669Z"
   },
   {
    "duration": 193,
    "start_time": "2022-04-27T16:30:52.507Z"
   },
   {
    "duration": 0,
    "start_time": "2022-04-27T16:30:52.703Z"
   },
   {
    "duration": 0,
    "start_time": "2022-04-27T16:30:52.705Z"
   },
   {
    "duration": 0,
    "start_time": "2022-04-27T16:30:52.706Z"
   },
   {
    "duration": 1,
    "start_time": "2022-04-27T16:30:52.707Z"
   },
   {
    "duration": 0,
    "start_time": "2022-04-27T16:30:52.709Z"
   },
   {
    "duration": 0,
    "start_time": "2022-04-27T16:30:52.711Z"
   },
   {
    "duration": 0,
    "start_time": "2022-04-27T16:30:52.712Z"
   },
   {
    "duration": 0,
    "start_time": "2022-04-27T16:30:52.713Z"
   },
   {
    "duration": 0,
    "start_time": "2022-04-27T16:30:52.714Z"
   },
   {
    "duration": 0,
    "start_time": "2022-04-27T16:30:52.716Z"
   },
   {
    "duration": 0,
    "start_time": "2022-04-27T16:30:52.717Z"
   },
   {
    "duration": 3246,
    "start_time": "2022-04-27T16:33:18.053Z"
   },
   {
    "duration": 926,
    "start_time": "2022-04-27T16:33:21.301Z"
   },
   {
    "duration": 7,
    "start_time": "2022-04-27T16:33:22.229Z"
   },
   {
    "duration": 321,
    "start_time": "2022-04-27T16:33:22.239Z"
   },
   {
    "duration": 814,
    "start_time": "2022-04-27T16:33:22.562Z"
   },
   {
    "duration": 206,
    "start_time": "2022-04-27T16:33:23.378Z"
   },
   {
    "duration": 0,
    "start_time": "2022-04-27T16:33:23.587Z"
   },
   {
    "duration": 0,
    "start_time": "2022-04-27T16:33:23.589Z"
   },
   {
    "duration": 0,
    "start_time": "2022-04-27T16:33:23.591Z"
   },
   {
    "duration": 0,
    "start_time": "2022-04-27T16:33:23.592Z"
   },
   {
    "duration": 0,
    "start_time": "2022-04-27T16:33:23.594Z"
   },
   {
    "duration": 0,
    "start_time": "2022-04-27T16:33:23.596Z"
   },
   {
    "duration": 0,
    "start_time": "2022-04-27T16:33:23.597Z"
   },
   {
    "duration": 0,
    "start_time": "2022-04-27T16:33:23.599Z"
   },
   {
    "duration": 0,
    "start_time": "2022-04-27T16:33:23.600Z"
   },
   {
    "duration": 0,
    "start_time": "2022-04-27T16:33:23.602Z"
   },
   {
    "duration": 0,
    "start_time": "2022-04-27T16:33:23.737Z"
   },
   {
    "duration": 2515,
    "start_time": "2022-04-27T16:34:42.312Z"
   },
   {
    "duration": 943,
    "start_time": "2022-04-27T16:34:44.831Z"
   },
   {
    "duration": 7,
    "start_time": "2022-04-27T16:34:45.776Z"
   },
   {
    "duration": 334,
    "start_time": "2022-04-27T16:34:45.786Z"
   },
   {
    "duration": 842,
    "start_time": "2022-04-27T16:34:46.122Z"
   },
   {
    "duration": 469,
    "start_time": "2022-04-27T16:34:46.966Z"
   },
   {
    "duration": 0,
    "start_time": "2022-04-27T16:34:47.437Z"
   },
   {
    "duration": 0,
    "start_time": "2022-04-27T16:34:47.439Z"
   },
   {
    "duration": 0,
    "start_time": "2022-04-27T16:34:47.440Z"
   },
   {
    "duration": 0,
    "start_time": "2022-04-27T16:34:47.442Z"
   },
   {
    "duration": 0,
    "start_time": "2022-04-27T16:34:47.452Z"
   },
   {
    "duration": 0,
    "start_time": "2022-04-27T16:34:47.454Z"
   },
   {
    "duration": 0,
    "start_time": "2022-04-27T16:34:47.456Z"
   },
   {
    "duration": 0,
    "start_time": "2022-04-27T16:34:47.457Z"
   },
   {
    "duration": 0,
    "start_time": "2022-04-27T16:34:47.459Z"
   },
   {
    "duration": 0,
    "start_time": "2022-04-27T16:34:47.461Z"
   },
   {
    "duration": 0,
    "start_time": "2022-04-27T16:34:47.462Z"
   },
   {
    "duration": 2425,
    "start_time": "2022-04-27T16:35:42.110Z"
   },
   {
    "duration": 1019,
    "start_time": "2022-04-27T16:35:44.538Z"
   },
   {
    "duration": 8,
    "start_time": "2022-04-27T16:35:45.560Z"
   },
   {
    "duration": 536,
    "start_time": "2022-04-27T16:35:45.572Z"
   },
   {
    "duration": 1344,
    "start_time": "2022-04-27T16:35:46.111Z"
   },
   {
    "duration": 413,
    "start_time": "2022-04-27T16:35:47.458Z"
   },
   {
    "duration": 0,
    "start_time": "2022-04-27T16:35:47.875Z"
   },
   {
    "duration": 0,
    "start_time": "2022-04-27T16:35:47.876Z"
   },
   {
    "duration": 0,
    "start_time": "2022-04-27T16:35:47.879Z"
   },
   {
    "duration": 0,
    "start_time": "2022-04-27T16:35:48.018Z"
   },
   {
    "duration": 0,
    "start_time": "2022-04-27T16:35:48.020Z"
   },
   {
    "duration": 0,
    "start_time": "2022-04-27T16:35:48.022Z"
   },
   {
    "duration": 0,
    "start_time": "2022-04-27T16:35:48.024Z"
   },
   {
    "duration": 0,
    "start_time": "2022-04-27T16:35:48.027Z"
   },
   {
    "duration": 0,
    "start_time": "2022-04-27T16:35:48.029Z"
   },
   {
    "duration": 0,
    "start_time": "2022-04-27T16:35:48.053Z"
   },
   {
    "duration": 0,
    "start_time": "2022-04-27T16:35:48.056Z"
   },
   {
    "duration": 2448,
    "start_time": "2022-04-27T16:36:04.639Z"
   },
   {
    "duration": 953,
    "start_time": "2022-04-27T16:36:07.090Z"
   },
   {
    "duration": 12,
    "start_time": "2022-04-27T16:36:08.045Z"
   },
   {
    "duration": 338,
    "start_time": "2022-04-27T16:36:08.060Z"
   },
   {
    "duration": 866,
    "start_time": "2022-04-27T16:36:08.401Z"
   },
   {
    "duration": 2445,
    "start_time": "2022-04-27T16:36:09.270Z"
   },
   {
    "duration": 4,
    "start_time": "2022-04-27T16:36:11.717Z"
   },
   {
    "duration": 29,
    "start_time": "2022-04-27T16:36:11.723Z"
   },
   {
    "duration": 19,
    "start_time": "2022-04-27T16:36:11.754Z"
   },
   {
    "duration": 93,
    "start_time": "2022-04-27T16:36:11.777Z"
   },
   {
    "duration": 13,
    "start_time": "2022-04-27T16:36:11.872Z"
   },
   {
    "duration": 10,
    "start_time": "2022-04-27T16:36:11.887Z"
   },
   {
    "duration": 257,
    "start_time": "2022-04-27T16:36:11.899Z"
   },
   {
    "duration": 406,
    "start_time": "2022-04-27T16:36:12.160Z"
   },
   {
    "duration": 2658,
    "start_time": "2022-04-27T16:36:53.323Z"
   },
   {
    "duration": 1417,
    "start_time": "2022-04-27T16:36:55.985Z"
   },
   {
    "duration": 8,
    "start_time": "2022-04-27T16:36:57.404Z"
   },
   {
    "duration": 352,
    "start_time": "2022-04-27T16:36:57.415Z"
   },
   {
    "duration": 854,
    "start_time": "2022-04-27T16:36:57.769Z"
   },
   {
    "duration": 217,
    "start_time": "2022-04-27T16:36:58.626Z"
   },
   {
    "duration": 0,
    "start_time": "2022-04-27T16:36:58.846Z"
   },
   {
    "duration": 0,
    "start_time": "2022-04-27T16:36:58.852Z"
   },
   {
    "duration": 0,
    "start_time": "2022-04-27T16:36:58.854Z"
   },
   {
    "duration": 0,
    "start_time": "2022-04-27T16:36:58.856Z"
   },
   {
    "duration": 0,
    "start_time": "2022-04-27T16:36:58.858Z"
   },
   {
    "duration": 0,
    "start_time": "2022-04-27T16:36:58.859Z"
   },
   {
    "duration": 0,
    "start_time": "2022-04-27T16:36:58.861Z"
   },
   {
    "duration": 0,
    "start_time": "2022-04-27T16:36:58.863Z"
   },
   {
    "duration": 0,
    "start_time": "2022-04-27T16:36:58.864Z"
   },
   {
    "duration": 0,
    "start_time": "2022-04-27T16:36:58.866Z"
   },
   {
    "duration": 0,
    "start_time": "2022-04-27T16:36:59.001Z"
   },
   {
    "duration": 2451,
    "start_time": "2022-04-27T16:39:19.189Z"
   },
   {
    "duration": 1152,
    "start_time": "2022-04-27T16:39:21.643Z"
   },
   {
    "duration": 8,
    "start_time": "2022-04-27T16:39:22.798Z"
   },
   {
    "duration": 341,
    "start_time": "2022-04-27T16:39:22.810Z"
   },
   {
    "duration": 850,
    "start_time": "2022-04-27T16:39:23.154Z"
   },
   {
    "duration": 2358,
    "start_time": "2022-04-27T16:39:24.006Z"
   },
   {
    "duration": 3,
    "start_time": "2022-04-27T16:39:26.367Z"
   },
   {
    "duration": 19,
    "start_time": "2022-04-27T16:39:26.372Z"
   },
   {
    "duration": 13,
    "start_time": "2022-04-27T16:39:26.395Z"
   },
   {
    "duration": 117,
    "start_time": "2022-04-27T16:39:26.413Z"
   },
   {
    "duration": 26,
    "start_time": "2022-04-27T16:39:26.532Z"
   },
   {
    "duration": 7,
    "start_time": "2022-04-27T16:39:26.561Z"
   },
   {
    "duration": 181,
    "start_time": "2022-04-27T16:39:26.570Z"
   },
   {
    "duration": 405,
    "start_time": "2022-04-27T16:39:26.756Z"
   },
   {
    "duration": 891,
    "start_time": "2022-04-27T16:39:27.163Z"
   },
   {
    "duration": 4399,
    "start_time": "2022-04-27T16:39:28.057Z"
   },
   {
    "duration": 17,
    "start_time": "2022-04-27T16:39:32.459Z"
   },
   {
    "duration": 2400,
    "start_time": "2022-04-27T16:41:10.005Z"
   },
   {
    "duration": 946,
    "start_time": "2022-04-27T16:41:12.407Z"
   },
   {
    "duration": 7,
    "start_time": "2022-04-27T16:41:13.356Z"
   },
   {
    "duration": 343,
    "start_time": "2022-04-27T16:41:13.366Z"
   },
   {
    "duration": 870,
    "start_time": "2022-04-27T16:41:13.711Z"
   },
   {
    "duration": 2387,
    "start_time": "2022-04-27T16:41:14.584Z"
   },
   {
    "duration": 3,
    "start_time": "2022-04-27T16:41:16.974Z"
   },
   {
    "duration": 32,
    "start_time": "2022-04-27T16:41:16.979Z"
   },
   {
    "duration": 21,
    "start_time": "2022-04-27T16:41:17.013Z"
   },
   {
    "duration": 87,
    "start_time": "2022-04-27T16:41:17.044Z"
   },
   {
    "duration": 29,
    "start_time": "2022-04-27T16:41:17.133Z"
   },
   {
    "duration": 20,
    "start_time": "2022-04-27T16:41:17.165Z"
   },
   {
    "duration": 168,
    "start_time": "2022-04-27T16:41:17.187Z"
   },
   {
    "duration": 410,
    "start_time": "2022-04-27T16:41:17.358Z"
   },
   {
    "duration": 64192,
    "start_time": "2022-04-27T16:41:17.770Z"
   },
   {
    "duration": 53906,
    "start_time": "2022-04-27T16:42:21.965Z"
   },
   {
    "duration": 19,
    "start_time": "2022-04-27T16:43:15.953Z"
   },
   {
    "duration": 2418,
    "start_time": "2022-04-27T16:43:20.915Z"
   },
   {
    "duration": 957,
    "start_time": "2022-04-27T16:43:23.336Z"
   },
   {
    "duration": 8,
    "start_time": "2022-04-27T16:43:24.296Z"
   },
   {
    "duration": 342,
    "start_time": "2022-04-27T16:43:24.307Z"
   },
   {
    "duration": 866,
    "start_time": "2022-04-27T16:43:24.652Z"
   },
   {
    "duration": 1593,
    "start_time": "2022-04-27T16:43:25.520Z"
   },
   {
    "duration": 3,
    "start_time": "2022-04-27T16:43:27.115Z"
   },
   {
    "duration": 37,
    "start_time": "2022-04-27T16:43:27.120Z"
   },
   {
    "duration": 14,
    "start_time": "2022-04-27T16:43:27.160Z"
   },
   {
    "duration": 106,
    "start_time": "2022-04-27T16:43:27.178Z"
   },
   {
    "duration": 14,
    "start_time": "2022-04-27T16:43:27.286Z"
   },
   {
    "duration": 7,
    "start_time": "2022-04-27T16:43:27.303Z"
   },
   {
    "duration": 244,
    "start_time": "2022-04-27T16:43:27.312Z"
   },
   {
    "duration": 485,
    "start_time": "2022-04-27T16:43:27.560Z"
   },
   {
    "duration": 42908,
    "start_time": "2022-04-27T16:43:28.047Z"
   },
   {
    "duration": 50408,
    "start_time": "2022-04-27T16:44:10.958Z"
   },
   {
    "duration": 95,
    "start_time": "2022-04-27T16:45:01.369Z"
   },
   {
    "duration": 2514,
    "start_time": "2022-04-27T16:45:19.352Z"
   },
   {
    "duration": 1045,
    "start_time": "2022-04-27T16:45:21.869Z"
   },
   {
    "duration": 9,
    "start_time": "2022-04-27T16:45:22.916Z"
   },
   {
    "duration": 351,
    "start_time": "2022-04-27T16:45:22.927Z"
   },
   {
    "duration": 920,
    "start_time": "2022-04-27T16:45:23.283Z"
   },
   {
    "duration": 1319,
    "start_time": "2022-04-27T16:45:24.206Z"
   },
   {
    "duration": 0,
    "start_time": "2022-04-27T16:45:25.527Z"
   },
   {
    "duration": 0,
    "start_time": "2022-04-27T16:45:25.529Z"
   },
   {
    "duration": 0,
    "start_time": "2022-04-27T16:45:25.531Z"
   },
   {
    "duration": 0,
    "start_time": "2022-04-27T16:45:25.532Z"
   },
   {
    "duration": 0,
    "start_time": "2022-04-27T16:45:25.534Z"
   },
   {
    "duration": 0,
    "start_time": "2022-04-27T16:45:25.552Z"
   },
   {
    "duration": 0,
    "start_time": "2022-04-27T16:45:25.555Z"
   },
   {
    "duration": 0,
    "start_time": "2022-04-27T16:45:25.557Z"
   },
   {
    "duration": 0,
    "start_time": "2022-04-27T16:45:25.559Z"
   },
   {
    "duration": 0,
    "start_time": "2022-04-27T16:45:25.561Z"
   },
   {
    "duration": 0,
    "start_time": "2022-04-27T16:45:25.563Z"
   },
   {
    "duration": 2332,
    "start_time": "2022-04-27T16:45:55.884Z"
   },
   {
    "duration": 939,
    "start_time": "2022-04-27T16:45:58.219Z"
   },
   {
    "duration": 7,
    "start_time": "2022-04-27T16:45:59.160Z"
   },
   {
    "duration": 338,
    "start_time": "2022-04-27T16:45:59.171Z"
   },
   {
    "duration": 875,
    "start_time": "2022-04-27T16:45:59.512Z"
   },
   {
    "duration": 1625,
    "start_time": "2022-04-27T16:46:00.389Z"
   },
   {
    "duration": 4,
    "start_time": "2022-04-27T16:46:02.016Z"
   },
   {
    "duration": 33,
    "start_time": "2022-04-27T16:46:02.022Z"
   },
   {
    "duration": 14,
    "start_time": "2022-04-27T16:46:02.057Z"
   },
   {
    "duration": 109,
    "start_time": "2022-04-27T16:46:02.075Z"
   },
   {
    "duration": 19,
    "start_time": "2022-04-27T16:46:02.187Z"
   },
   {
    "duration": 10,
    "start_time": "2022-04-27T16:46:02.208Z"
   },
   {
    "duration": 236,
    "start_time": "2022-04-27T16:46:02.221Z"
   },
   {
    "duration": 500,
    "start_time": "2022-04-27T16:46:02.460Z"
   },
   {
    "duration": 32894,
    "start_time": "2022-04-27T16:46:02.962Z"
   },
   {
    "duration": 3800,
    "start_time": "2022-04-27T16:46:35.859Z"
   },
   {
    "duration": 17,
    "start_time": "2022-04-27T16:46:39.661Z"
   },
   {
    "duration": 2482,
    "start_time": "2022-04-27T16:48:24.270Z"
   },
   {
    "duration": 905,
    "start_time": "2022-04-27T16:48:26.754Z"
   },
   {
    "duration": 7,
    "start_time": "2022-04-27T16:48:27.661Z"
   },
   {
    "duration": 324,
    "start_time": "2022-04-27T16:48:27.671Z"
   },
   {
    "duration": 857,
    "start_time": "2022-04-27T16:48:27.997Z"
   },
   {
    "duration": 224,
    "start_time": "2022-04-27T16:48:28.857Z"
   },
   {
    "duration": 0,
    "start_time": "2022-04-27T16:48:29.084Z"
   },
   {
    "duration": 0,
    "start_time": "2022-04-27T16:48:29.085Z"
   },
   {
    "duration": 0,
    "start_time": "2022-04-27T16:48:29.087Z"
   },
   {
    "duration": 0,
    "start_time": "2022-04-27T16:48:29.088Z"
   },
   {
    "duration": 0,
    "start_time": "2022-04-27T16:48:29.090Z"
   },
   {
    "duration": 0,
    "start_time": "2022-04-27T16:48:29.091Z"
   },
   {
    "duration": 0,
    "start_time": "2022-04-27T16:48:29.092Z"
   },
   {
    "duration": 0,
    "start_time": "2022-04-27T16:48:29.094Z"
   },
   {
    "duration": 0,
    "start_time": "2022-04-27T16:48:29.096Z"
   },
   {
    "duration": 0,
    "start_time": "2022-04-27T16:48:29.097Z"
   },
   {
    "duration": 0,
    "start_time": "2022-04-27T16:48:29.099Z"
   },
   {
    "duration": 2427,
    "start_time": "2022-04-27T16:48:46.849Z"
   },
   {
    "duration": 906,
    "start_time": "2022-04-27T16:48:49.278Z"
   },
   {
    "duration": 7,
    "start_time": "2022-04-27T16:48:50.187Z"
   },
   {
    "duration": 318,
    "start_time": "2022-04-27T16:48:50.196Z"
   },
   {
    "duration": 822,
    "start_time": "2022-04-27T16:48:50.518Z"
   },
   {
    "duration": 211,
    "start_time": "2022-04-27T16:48:51.342Z"
   },
   {
    "duration": 0,
    "start_time": "2022-04-27T16:48:51.555Z"
   },
   {
    "duration": 0,
    "start_time": "2022-04-27T16:48:51.557Z"
   },
   {
    "duration": 0,
    "start_time": "2022-04-27T16:48:51.559Z"
   },
   {
    "duration": 0,
    "start_time": "2022-04-27T16:48:51.560Z"
   },
   {
    "duration": 0,
    "start_time": "2022-04-27T16:48:51.562Z"
   },
   {
    "duration": 0,
    "start_time": "2022-04-27T16:48:51.563Z"
   },
   {
    "duration": 0,
    "start_time": "2022-04-27T16:48:51.564Z"
   },
   {
    "duration": 0,
    "start_time": "2022-04-27T16:48:51.565Z"
   },
   {
    "duration": 0,
    "start_time": "2022-04-27T16:48:51.567Z"
   },
   {
    "duration": 0,
    "start_time": "2022-04-27T16:48:51.568Z"
   },
   {
    "duration": 0,
    "start_time": "2022-04-27T16:48:51.570Z"
   },
   {
    "duration": 1096,
    "start_time": "2022-04-27T16:49:23.891Z"
   },
   {
    "duration": 2402,
    "start_time": "2022-04-27T16:49:44.490Z"
   },
   {
    "duration": 944,
    "start_time": "2022-04-27T16:49:46.895Z"
   },
   {
    "duration": 12,
    "start_time": "2022-04-27T16:49:47.842Z"
   },
   {
    "duration": 329,
    "start_time": "2022-04-27T16:49:47.857Z"
   },
   {
    "duration": 862,
    "start_time": "2022-04-27T16:49:48.189Z"
   },
   {
    "duration": 1035,
    "start_time": "2022-04-27T16:49:49.053Z"
   },
   {
    "duration": 2,
    "start_time": "2022-04-27T16:49:50.091Z"
   },
   {
    "duration": 14,
    "start_time": "2022-04-27T16:49:50.095Z"
   },
   {
    "duration": 12,
    "start_time": "2022-04-27T16:49:50.111Z"
   },
   {
    "duration": 85,
    "start_time": "2022-04-27T16:49:50.151Z"
   },
   {
    "duration": 24,
    "start_time": "2022-04-27T16:49:50.238Z"
   },
   {
    "duration": 7,
    "start_time": "2022-04-27T16:49:50.264Z"
   },
   {
    "duration": 183,
    "start_time": "2022-04-27T16:49:50.273Z"
   },
   {
    "duration": 481,
    "start_time": "2022-04-27T16:49:50.459Z"
   },
   {
    "duration": 1625,
    "start_time": "2022-04-27T16:49:50.942Z"
   },
   {
    "duration": 3708,
    "start_time": "2022-04-27T16:49:52.653Z"
   },
   {
    "duration": 17,
    "start_time": "2022-04-27T16:49:56.363Z"
   },
   {
    "duration": 2406,
    "start_time": "2022-04-27T16:50:29.456Z"
   },
   {
    "duration": 974,
    "start_time": "2022-04-27T16:50:31.864Z"
   },
   {
    "duration": 11,
    "start_time": "2022-04-27T16:50:32.840Z"
   },
   {
    "duration": 341,
    "start_time": "2022-04-27T16:50:32.854Z"
   },
   {
    "duration": 885,
    "start_time": "2022-04-27T16:50:33.197Z"
   },
   {
    "duration": 1089,
    "start_time": "2022-04-27T16:50:34.085Z"
   },
   {
    "duration": 3,
    "start_time": "2022-04-27T16:50:35.177Z"
   },
   {
    "duration": 23,
    "start_time": "2022-04-27T16:50:35.182Z"
   },
   {
    "duration": 21,
    "start_time": "2022-04-27T16:50:35.207Z"
   },
   {
    "duration": 101,
    "start_time": "2022-04-27T16:50:35.231Z"
   },
   {
    "duration": 23,
    "start_time": "2022-04-27T16:50:35.335Z"
   },
   {
    "duration": 7,
    "start_time": "2022-04-27T16:50:35.360Z"
   },
   {
    "duration": 224,
    "start_time": "2022-04-27T16:50:35.369Z"
   },
   {
    "duration": 409,
    "start_time": "2022-04-27T16:50:35.596Z"
   },
   {
    "duration": 21163,
    "start_time": "2022-04-27T16:50:36.007Z"
   },
   {
    "duration": 3723,
    "start_time": "2022-04-27T16:50:57.173Z"
   },
   {
    "duration": 18,
    "start_time": "2022-04-27T16:51:00.953Z"
   },
   {
    "duration": 2295,
    "start_time": "2022-04-27T16:53:27.294Z"
   },
   {
    "duration": 964,
    "start_time": "2022-04-27T16:53:29.592Z"
   },
   {
    "duration": 7,
    "start_time": "2022-04-27T16:53:30.558Z"
   },
   {
    "duration": 388,
    "start_time": "2022-04-27T16:53:30.568Z"
   },
   {
    "duration": 893,
    "start_time": "2022-04-27T16:53:30.958Z"
   },
   {
    "duration": 1021,
    "start_time": "2022-04-27T16:53:31.854Z"
   },
   {
    "duration": 4,
    "start_time": "2022-04-27T16:53:32.877Z"
   },
   {
    "duration": 18,
    "start_time": "2022-04-27T16:53:32.884Z"
   },
   {
    "duration": 16,
    "start_time": "2022-04-27T16:53:32.904Z"
   },
   {
    "duration": 85,
    "start_time": "2022-04-27T16:53:32.951Z"
   },
   {
    "duration": 15,
    "start_time": "2022-04-27T16:53:33.052Z"
   },
   {
    "duration": 8,
    "start_time": "2022-04-27T16:53:33.070Z"
   },
   {
    "duration": 280,
    "start_time": "2022-04-27T16:53:33.080Z"
   },
   {
    "duration": 338,
    "start_time": "2022-04-27T16:53:33.451Z"
   },
   {
    "duration": 9867,
    "start_time": "2022-04-27T16:53:33.792Z"
   },
   {
    "duration": 3827,
    "start_time": "2022-04-27T16:53:43.662Z"
   },
   {
    "duration": 69,
    "start_time": "2022-04-27T16:53:47.491Z"
   },
   {
    "duration": 2435,
    "start_time": "2022-04-27T16:54:41.908Z"
   },
   {
    "duration": 1195,
    "start_time": "2022-04-27T16:54:44.345Z"
   },
   {
    "duration": 12,
    "start_time": "2022-04-27T16:54:45.543Z"
   },
   {
    "duration": 334,
    "start_time": "2022-04-27T16:54:45.559Z"
   },
   {
    "duration": 851,
    "start_time": "2022-04-27T16:54:45.896Z"
   },
   {
    "duration": 1182,
    "start_time": "2022-04-27T16:54:46.751Z"
   },
   {
    "duration": 3,
    "start_time": "2022-04-27T16:54:47.936Z"
   },
   {
    "duration": 11,
    "start_time": "2022-04-27T16:54:47.952Z"
   },
   {
    "duration": 25,
    "start_time": "2022-04-27T16:54:47.966Z"
   },
   {
    "duration": 102,
    "start_time": "2022-04-27T16:54:47.996Z"
   },
   {
    "duration": 16,
    "start_time": "2022-04-27T16:54:48.101Z"
   },
   {
    "duration": 33,
    "start_time": "2022-04-27T16:54:48.119Z"
   },
   {
    "duration": 197,
    "start_time": "2022-04-27T16:54:48.155Z"
   },
   {
    "duration": 413,
    "start_time": "2022-04-27T16:54:48.356Z"
   },
   {
    "duration": 2591,
    "start_time": "2022-04-27T16:55:12.851Z"
   },
   {
    "duration": 956,
    "start_time": "2022-04-27T16:55:15.445Z"
   },
   {
    "duration": 7,
    "start_time": "2022-04-27T16:55:16.403Z"
   },
   {
    "duration": 339,
    "start_time": "2022-04-27T16:55:16.413Z"
   },
   {
    "duration": 876,
    "start_time": "2022-04-27T16:55:16.754Z"
   },
   {
    "duration": 1119,
    "start_time": "2022-04-27T16:55:17.632Z"
   },
   {
    "duration": 5,
    "start_time": "2022-04-27T16:55:18.754Z"
   },
   {
    "duration": 13,
    "start_time": "2022-04-27T16:55:18.761Z"
   },
   {
    "duration": 15,
    "start_time": "2022-04-27T16:55:18.777Z"
   },
   {
    "duration": 117,
    "start_time": "2022-04-27T16:55:18.796Z"
   },
   {
    "duration": 12,
    "start_time": "2022-04-27T16:55:18.916Z"
   },
   {
    "duration": 23,
    "start_time": "2022-04-27T16:55:18.931Z"
   },
   {
    "duration": 305,
    "start_time": "2022-04-27T16:55:18.956Z"
   },
   {
    "duration": 340,
    "start_time": "2022-04-27T16:55:19.351Z"
   },
   {
    "duration": 27078,
    "start_time": "2022-04-27T16:55:19.693Z"
   },
   {
    "duration": 3691,
    "start_time": "2022-04-27T16:55:46.773Z"
   },
   {
    "duration": 16,
    "start_time": "2022-04-27T16:55:50.466Z"
   },
   {
    "duration": 2159,
    "start_time": "2022-04-27T17:29:18.370Z"
   },
   {
    "duration": 1046,
    "start_time": "2022-04-27T17:29:20.534Z"
   },
   {
    "duration": 8,
    "start_time": "2022-04-27T17:29:21.582Z"
   },
   {
    "duration": 331,
    "start_time": "2022-04-27T17:29:21.593Z"
   },
   {
    "duration": 848,
    "start_time": "2022-04-27T17:29:21.926Z"
   },
   {
    "duration": 997,
    "start_time": "2022-04-27T17:29:22.776Z"
   },
   {
    "duration": 3,
    "start_time": "2022-04-27T17:29:23.775Z"
   },
   {
    "duration": 10,
    "start_time": "2022-04-27T17:29:23.780Z"
   },
   {
    "duration": 12,
    "start_time": "2022-04-27T17:29:23.792Z"
   },
   {
    "duration": 117,
    "start_time": "2022-04-27T17:29:23.808Z"
   },
   {
    "duration": 26,
    "start_time": "2022-04-27T17:29:23.928Z"
   },
   {
    "duration": 7,
    "start_time": "2022-04-27T17:29:23.956Z"
   },
   {
    "duration": 196,
    "start_time": "2022-04-27T17:29:23.965Z"
   },
   {
    "duration": 487,
    "start_time": "2022-04-27T17:29:24.165Z"
   },
   {
    "duration": 1106,
    "start_time": "2022-04-27T17:29:24.654Z"
   },
   {
    "duration": 4295,
    "start_time": "2022-04-27T17:29:25.762Z"
   },
   {
    "duration": 17,
    "start_time": "2022-04-27T17:29:30.059Z"
   },
   {
    "duration": 2033,
    "start_time": "2022-04-27T17:37:36.008Z"
   },
   {
    "duration": 1021,
    "start_time": "2022-04-27T17:37:38.044Z"
   },
   {
    "duration": 7,
    "start_time": "2022-04-27T17:37:39.067Z"
   },
   {
    "duration": 328,
    "start_time": "2022-04-27T17:37:39.077Z"
   },
   {
    "duration": 837,
    "start_time": "2022-04-27T17:37:39.407Z"
   },
   {
    "duration": 979,
    "start_time": "2022-04-27T17:37:40.246Z"
   },
   {
    "duration": 3,
    "start_time": "2022-04-27T17:37:41.227Z"
   },
   {
    "duration": 23,
    "start_time": "2022-04-27T17:37:41.232Z"
   },
   {
    "duration": 17,
    "start_time": "2022-04-27T17:37:41.257Z"
   },
   {
    "duration": 98,
    "start_time": "2022-04-27T17:37:41.278Z"
   },
   {
    "duration": 17,
    "start_time": "2022-04-27T17:37:41.379Z"
   },
   {
    "duration": 8,
    "start_time": "2022-04-27T17:37:41.398Z"
   },
   {
    "duration": 148,
    "start_time": "2022-04-27T17:37:41.409Z"
   },
   {
    "duration": 492,
    "start_time": "2022-04-27T17:37:41.560Z"
   },
   {
    "duration": 999,
    "start_time": "2022-04-27T17:37:42.054Z"
   },
   {
    "duration": 4,
    "start_time": "2022-04-27T17:37:43.055Z"
   },
   {
    "duration": 46512,
    "start_time": "2022-04-27T17:37:43.062Z"
   },
   {
    "duration": 219,
    "start_time": "2022-04-27T17:38:29.577Z"
   },
   {
    "duration": 2159,
    "start_time": "2022-04-27T17:41:02.906Z"
   },
   {
    "duration": 1052,
    "start_time": "2022-04-27T17:41:05.068Z"
   },
   {
    "duration": 7,
    "start_time": "2022-04-27T17:41:06.123Z"
   },
   {
    "duration": 334,
    "start_time": "2022-04-27T17:41:06.133Z"
   },
   {
    "duration": 858,
    "start_time": "2022-04-27T17:41:06.469Z"
   },
   {
    "duration": 995,
    "start_time": "2022-04-27T17:41:07.329Z"
   },
   {
    "duration": 4,
    "start_time": "2022-04-27T17:41:08.326Z"
   },
   {
    "duration": 26,
    "start_time": "2022-04-27T17:41:08.332Z"
   },
   {
    "duration": 22,
    "start_time": "2022-04-27T17:41:08.360Z"
   },
   {
    "duration": 96,
    "start_time": "2022-04-27T17:41:08.386Z"
   },
   {
    "duration": 14,
    "start_time": "2022-04-27T17:41:08.484Z"
   },
   {
    "duration": 11,
    "start_time": "2022-04-27T17:41:08.500Z"
   },
   {
    "duration": 243,
    "start_time": "2022-04-27T17:41:08.513Z"
   },
   {
    "duration": 407,
    "start_time": "2022-04-27T17:41:08.760Z"
   },
   {
    "duration": 1194,
    "start_time": "2022-04-27T17:41:09.169Z"
   },
   {
    "duration": 4,
    "start_time": "2022-04-27T17:41:10.365Z"
   },
   {
    "duration": 49214,
    "start_time": "2022-04-27T17:41:10.371Z"
   },
   {
    "duration": 236,
    "start_time": "2022-04-27T17:41:59.587Z"
   },
   {
    "duration": 2104,
    "start_time": "2022-04-27T17:51:41.026Z"
   },
   {
    "duration": 1027,
    "start_time": "2022-04-27T17:51:43.133Z"
   },
   {
    "duration": 7,
    "start_time": "2022-04-27T17:51:44.162Z"
   },
   {
    "duration": 352,
    "start_time": "2022-04-27T17:51:44.173Z"
   },
   {
    "duration": 867,
    "start_time": "2022-04-27T17:51:44.527Z"
   },
   {
    "duration": 1043,
    "start_time": "2022-04-27T17:51:45.397Z"
   },
   {
    "duration": 3,
    "start_time": "2022-04-27T17:51:46.442Z"
   },
   {
    "duration": 12,
    "start_time": "2022-04-27T17:51:46.447Z"
   },
   {
    "duration": 15,
    "start_time": "2022-04-27T17:51:46.461Z"
   },
   {
    "duration": 116,
    "start_time": "2022-04-27T17:51:46.480Z"
   },
   {
    "duration": 15,
    "start_time": "2022-04-27T17:51:46.598Z"
   },
   {
    "duration": 7,
    "start_time": "2022-04-27T17:51:46.615Z"
   },
   {
    "duration": 233,
    "start_time": "2022-04-27T17:51:46.624Z"
   },
   {
    "duration": 405,
    "start_time": "2022-04-27T17:51:46.861Z"
   },
   {
    "duration": 892,
    "start_time": "2022-04-27T17:51:47.268Z"
   },
   {
    "duration": 219,
    "start_time": "2022-04-27T17:51:48.162Z"
   },
   {
    "duration": 0,
    "start_time": "2022-04-27T17:51:48.383Z"
   },
   {
    "duration": 0,
    "start_time": "2022-04-27T17:51:48.385Z"
   },
   {
    "duration": 2070,
    "start_time": "2022-04-27T17:52:06.056Z"
   },
   {
    "duration": 1033,
    "start_time": "2022-04-27T17:52:08.129Z"
   },
   {
    "duration": 7,
    "start_time": "2022-04-27T17:52:09.164Z"
   },
   {
    "duration": 348,
    "start_time": "2022-04-27T17:52:09.174Z"
   },
   {
    "duration": 895,
    "start_time": "2022-04-27T17:52:09.524Z"
   },
   {
    "duration": 1018,
    "start_time": "2022-04-27T17:52:10.422Z"
   },
   {
    "duration": 8,
    "start_time": "2022-04-27T17:52:11.443Z"
   },
   {
    "duration": 10,
    "start_time": "2022-04-27T17:52:11.454Z"
   },
   {
    "duration": 14,
    "start_time": "2022-04-27T17:52:11.467Z"
   },
   {
    "duration": 127,
    "start_time": "2022-04-27T17:52:11.486Z"
   },
   {
    "duration": 16,
    "start_time": "2022-04-27T17:52:11.616Z"
   },
   {
    "duration": 7,
    "start_time": "2022-04-27T17:52:11.652Z"
   },
   {
    "duration": 198,
    "start_time": "2022-04-27T17:52:11.662Z"
   },
   {
    "duration": 488,
    "start_time": "2022-04-27T17:52:11.863Z"
   },
   {
    "duration": 806,
    "start_time": "2022-04-27T17:52:12.354Z"
   },
   {
    "duration": 3,
    "start_time": "2022-04-27T17:52:13.162Z"
   },
   {
    "duration": 46254,
    "start_time": "2022-04-27T17:52:13.168Z"
   },
   {
    "duration": 0,
    "start_time": "2022-04-27T17:52:59.424Z"
   },
   {
    "duration": 2034,
    "start_time": "2022-04-27T17:55:17.896Z"
   },
   {
    "duration": 1024,
    "start_time": "2022-04-27T17:55:19.933Z"
   },
   {
    "duration": 8,
    "start_time": "2022-04-27T17:55:20.960Z"
   },
   {
    "duration": 342,
    "start_time": "2022-04-27T17:55:20.971Z"
   },
   {
    "duration": 863,
    "start_time": "2022-04-27T17:55:21.318Z"
   },
   {
    "duration": 994,
    "start_time": "2022-04-27T17:55:22.184Z"
   },
   {
    "duration": 4,
    "start_time": "2022-04-27T17:55:23.181Z"
   },
   {
    "duration": 10,
    "start_time": "2022-04-27T17:55:23.187Z"
   },
   {
    "duration": 13,
    "start_time": "2022-04-27T17:55:23.200Z"
   },
   {
    "duration": 114,
    "start_time": "2022-04-27T17:55:23.215Z"
   },
   {
    "duration": 27,
    "start_time": "2022-04-27T17:55:23.332Z"
   },
   {
    "duration": 7,
    "start_time": "2022-04-27T17:55:23.362Z"
   },
   {
    "duration": 180,
    "start_time": "2022-04-27T17:55:23.371Z"
   },
   {
    "duration": 413,
    "start_time": "2022-04-27T17:55:23.558Z"
   },
   {
    "duration": 797,
    "start_time": "2022-04-27T17:55:23.974Z"
   },
   {
    "duration": 3,
    "start_time": "2022-04-27T17:55:24.852Z"
   },
   {
    "duration": 44114,
    "start_time": "2022-04-27T17:55:24.858Z"
   },
   {
    "duration": 5782,
    "start_time": "2022-04-27T17:56:08.974Z"
   },
   {
    "duration": 17,
    "start_time": "2022-04-27T17:56:14.758Z"
   },
   {
    "duration": 2026,
    "start_time": "2022-04-27T17:59:15.501Z"
   },
   {
    "duration": 1059,
    "start_time": "2022-04-27T17:59:17.531Z"
   },
   {
    "duration": 7,
    "start_time": "2022-04-27T17:59:18.592Z"
   },
   {
    "duration": 349,
    "start_time": "2022-04-27T17:59:18.602Z"
   },
   {
    "duration": 877,
    "start_time": "2022-04-27T17:59:18.954Z"
   },
   {
    "duration": 1008,
    "start_time": "2022-04-27T17:59:19.833Z"
   },
   {
    "duration": 11,
    "start_time": "2022-04-27T17:59:20.844Z"
   },
   {
    "duration": 17,
    "start_time": "2022-04-27T17:59:20.857Z"
   },
   {
    "duration": 17,
    "start_time": "2022-04-27T17:59:20.876Z"
   },
   {
    "duration": 105,
    "start_time": "2022-04-27T17:59:20.897Z"
   },
   {
    "duration": 15,
    "start_time": "2022-04-27T17:59:21.004Z"
   },
   {
    "duration": 7,
    "start_time": "2022-04-27T17:59:21.021Z"
   },
   {
    "duration": 222,
    "start_time": "2022-04-27T17:59:21.030Z"
   },
   {
    "duration": 426,
    "start_time": "2022-04-27T17:59:21.256Z"
   },
   {
    "duration": 872,
    "start_time": "2022-04-27T17:59:21.684Z"
   },
   {
    "duration": 3719,
    "start_time": "2022-04-27T17:59:22.558Z"
   },
   {
    "duration": 87,
    "start_time": "2022-04-27T17:59:26.279Z"
   },
   {
    "duration": 0,
    "start_time": "2022-04-27T17:59:26.368Z"
   },
   {
    "duration": 0,
    "start_time": "2022-04-27T17:59:26.370Z"
   },
   {
    "duration": 2090,
    "start_time": "2022-04-27T17:59:37.536Z"
   },
   {
    "duration": 1022,
    "start_time": "2022-04-27T17:59:39.629Z"
   },
   {
    "duration": 7,
    "start_time": "2022-04-27T17:59:40.653Z"
   },
   {
    "duration": 329,
    "start_time": "2022-04-27T17:59:40.663Z"
   },
   {
    "duration": 868,
    "start_time": "2022-04-27T17:59:40.994Z"
   },
   {
    "duration": 1011,
    "start_time": "2022-04-27T17:59:41.864Z"
   },
   {
    "duration": 4,
    "start_time": "2022-04-27T17:59:42.878Z"
   },
   {
    "duration": 11,
    "start_time": "2022-04-27T17:59:42.884Z"
   },
   {
    "duration": 14,
    "start_time": "2022-04-27T17:59:42.897Z"
   },
   {
    "duration": 88,
    "start_time": "2022-04-27T17:59:42.951Z"
   },
   {
    "duration": 16,
    "start_time": "2022-04-27T17:59:43.051Z"
   },
   {
    "duration": 7,
    "start_time": "2022-04-27T17:59:43.070Z"
   },
   {
    "duration": 180,
    "start_time": "2022-04-27T17:59:43.080Z"
   },
   {
    "duration": 490,
    "start_time": "2022-04-27T17:59:43.263Z"
   },
   {
    "duration": 1201,
    "start_time": "2022-04-27T17:59:43.755Z"
   },
   {
    "duration": 3630,
    "start_time": "2022-04-27T17:59:44.958Z"
   },
   {
    "duration": 3,
    "start_time": "2022-04-27T17:59:48.591Z"
   },
   {
    "duration": 3,
    "start_time": "2022-04-27T17:59:48.653Z"
   },
   {
    "duration": 34,
    "start_time": "2022-04-27T17:59:48.658Z"
   },
   {
    "duration": 2055,
    "start_time": "2022-04-27T18:00:53.553Z"
   },
   {
    "duration": 1012,
    "start_time": "2022-04-27T18:00:55.611Z"
   },
   {
    "duration": 7,
    "start_time": "2022-04-27T18:00:56.626Z"
   },
   {
    "duration": 340,
    "start_time": "2022-04-27T18:00:56.636Z"
   },
   {
    "duration": 876,
    "start_time": "2022-04-27T18:00:56.978Z"
   },
   {
    "duration": 1006,
    "start_time": "2022-04-27T18:00:57.856Z"
   },
   {
    "duration": 3,
    "start_time": "2022-04-27T18:00:58.864Z"
   },
   {
    "duration": 12,
    "start_time": "2022-04-27T18:00:58.870Z"
   },
   {
    "duration": 13,
    "start_time": "2022-04-27T18:00:58.884Z"
   },
   {
    "duration": 113,
    "start_time": "2022-04-27T18:00:58.900Z"
   },
   {
    "duration": 14,
    "start_time": "2022-04-27T18:00:59.016Z"
   },
   {
    "duration": 24,
    "start_time": "2022-04-27T18:00:59.032Z"
   },
   {
    "duration": 198,
    "start_time": "2022-04-27T18:00:59.058Z"
   },
   {
    "duration": 493,
    "start_time": "2022-04-27T18:00:59.259Z"
   },
   {
    "duration": 812,
    "start_time": "2022-04-27T18:00:59.754Z"
   },
   {
    "duration": 84,
    "start_time": "2022-04-27T18:01:00.568Z"
   },
   {
    "duration": 45631,
    "start_time": "2022-04-27T18:01:00.655Z"
   },
   {
    "duration": 3694,
    "start_time": "2022-04-27T18:01:46.289Z"
   },
   {
    "duration": 81,
    "start_time": "2022-04-27T18:01:49.985Z"
   },
   {
    "duration": 58826,
    "start_time": "2022-04-27T21:24:00.135Z"
   },
   {
    "duration": 1070,
    "start_time": "2022-04-27T21:24:58.964Z"
   },
   {
    "duration": 7,
    "start_time": "2022-04-27T21:25:00.037Z"
   },
   {
    "duration": 343,
    "start_time": "2022-04-27T21:25:00.046Z"
   },
   {
    "duration": 893,
    "start_time": "2022-04-27T21:25:00.392Z"
   },
   {
    "duration": 1084,
    "start_time": "2022-04-27T21:25:01.288Z"
   },
   {
    "duration": 10,
    "start_time": "2022-04-27T21:25:02.375Z"
   },
   {
    "duration": 197,
    "start_time": "2022-04-27T21:25:12.194Z"
   },
   {
    "duration": 433,
    "start_time": "2022-04-27T21:25:23.613Z"
   }
  ],
  "kernelspec": {
   "display_name": "Python 3 (ipykernel)",
   "language": "python",
   "name": "python3"
  },
  "language_info": {
   "codemirror_mode": {
    "name": "ipython",
    "version": 3
   },
   "file_extension": ".py",
   "mimetype": "text/x-python",
   "name": "python",
   "nbconvert_exporter": "python",
   "pygments_lexer": "ipython3",
   "version": "3.9.5"
  },
  "toc": {
   "base_numbering": 1,
   "nav_menu": {},
   "number_sections": true,
   "sideBar": true,
   "skip_h1_title": true,
   "title_cell": "Table of Contents",
   "title_sidebar": "Contents",
   "toc_cell": false,
   "toc_position": {},
   "toc_section_display": true,
   "toc_window_display": false
  }
 },
 "nbformat": 4,
 "nbformat_minor": 2
}
